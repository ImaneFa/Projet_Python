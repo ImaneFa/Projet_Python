{
  "nbformat": 4,
  "nbformat_minor": 0,
  "metadata": {
    "colab": {
      "name": "folium/router.ipynb",
      "provenance": [],
      "collapsed_sections": []
    },
    "kernelspec": {
      "display_name": "Python 3",
      "name": "python3"
    }
  },
  "cells": [
    {
      "cell_type": "markdown",
      "metadata": {
        "id": "t7AX5eDAr8zA"
      },
      "source": [
        "**Partie 1 : visualisation des pistes cyclables**\n"
      ]
    },
    {
      "cell_type": "code",
      "metadata": {
        "id": "07UE_zbT2cM4",
        "outputId": "f57e67b0-2094-4fda-d25c-bf4f25d049d4",
        "colab": {
          "base_uri": "https://localhost:8080/"
        }
      },
      "source": [
        "!pip install geopandas"
      ],
      "execution_count": 2,
      "outputs": [
        {
          "output_type": "stream",
          "text": [
            "Collecting geopandas\n",
            "\u001b[?25l  Downloading https://files.pythonhosted.org/packages/f7/a4/e66aafbefcbb717813bf3a355c8c4fc3ed04ea1dd7feb2920f2f4f868921/geopandas-0.8.1-py2.py3-none-any.whl (962kB)\n",
            "\u001b[K     |████████████████████████████████| 972kB 4.8MB/s \n",
            "\u001b[?25hRequirement already satisfied: pandas>=0.23.0 in /usr/local/lib/python3.6/dist-packages (from geopandas) (1.1.4)\n",
            "Collecting pyproj>=2.2.0\n",
            "\u001b[?25l  Downloading https://files.pythonhosted.org/packages/e4/ab/280e80a67cfc109d15428c0ec56391fc03a65857b7727cf4e6e6f99a4204/pyproj-3.0.0.post1-cp36-cp36m-manylinux2010_x86_64.whl (6.4MB)\n",
            "\u001b[K     |████████████████████████████████| 6.5MB 46.3MB/s \n",
            "\u001b[?25hRequirement already satisfied: shapely in /usr/local/lib/python3.6/dist-packages (from geopandas) (1.7.1)\n",
            "Collecting fiona\n",
            "\u001b[?25l  Downloading https://files.pythonhosted.org/packages/36/8b/e8b2c11bed5373c8e98edb85ce891b09aa1f4210fd451d0fb3696b7695a2/Fiona-1.8.17-cp36-cp36m-manylinux1_x86_64.whl (14.8MB)\n",
            "\u001b[K     |████████████████████████████████| 14.8MB 275kB/s \n",
            "\u001b[?25hRequirement already satisfied: pytz>=2017.2 in /usr/local/lib/python3.6/dist-packages (from pandas>=0.23.0->geopandas) (2018.9)\n",
            "Requirement already satisfied: python-dateutil>=2.7.3 in /usr/local/lib/python3.6/dist-packages (from pandas>=0.23.0->geopandas) (2.8.1)\n",
            "Requirement already satisfied: numpy>=1.15.4 in /usr/local/lib/python3.6/dist-packages (from pandas>=0.23.0->geopandas) (1.18.5)\n",
            "Requirement already satisfied: certifi in /usr/local/lib/python3.6/dist-packages (from pyproj>=2.2.0->geopandas) (2020.6.20)\n",
            "Collecting munch\n",
            "  Downloading https://files.pythonhosted.org/packages/cc/ab/85d8da5c9a45e072301beb37ad7f833cd344e04c817d97e0cc75681d248f/munch-2.5.0-py2.py3-none-any.whl\n",
            "Requirement already satisfied: attrs>=17 in /usr/local/lib/python3.6/dist-packages (from fiona->geopandas) (20.2.0)\n",
            "Requirement already satisfied: click<8,>=4.0 in /usr/local/lib/python3.6/dist-packages (from fiona->geopandas) (7.1.2)\n",
            "Collecting click-plugins>=1.0\n",
            "  Downloading https://files.pythonhosted.org/packages/e9/da/824b92d9942f4e472702488857914bdd50f73021efea15b4cad9aca8ecef/click_plugins-1.1.1-py2.py3-none-any.whl\n",
            "Requirement already satisfied: six>=1.7 in /usr/local/lib/python3.6/dist-packages (from fiona->geopandas) (1.15.0)\n",
            "Collecting cligj>=0.5\n",
            "  Downloading https://files.pythonhosted.org/packages/ba/06/e3440b1f2dc802d35f329f299ba96153e9fcbfdef75e17f4b61f79430c6a/cligj-0.7.0-py3-none-any.whl\n",
            "Installing collected packages: pyproj, munch, click-plugins, cligj, fiona, geopandas\n",
            "Successfully installed click-plugins-1.1.1 cligj-0.7.0 fiona-1.8.17 geopandas-0.8.1 munch-2.5.0 pyproj-3.0.0.post1\n"
          ],
          "name": "stdout"
        }
      ]
    },
    {
      "cell_type": "code",
      "metadata": {
        "id": "ZotPTKUgy81r",
        "outputId": "ad1cfc44-608e-49df-b671-d66beffa7398",
        "colab": {
          "base_uri": "https://localhost:8080/"
        }
      },
      "source": [
        "!pip install folium"
      ],
      "execution_count": 3,
      "outputs": [
        {
          "output_type": "stream",
          "text": [
            "Requirement already satisfied: folium in /usr/local/lib/python3.6/dist-packages (0.8.3)\n",
            "Requirement already satisfied: six in /usr/local/lib/python3.6/dist-packages (from folium) (1.15.0)\n",
            "Requirement already satisfied: requests in /usr/local/lib/python3.6/dist-packages (from folium) (2.23.0)\n",
            "Requirement already satisfied: branca>=0.3.0 in /usr/local/lib/python3.6/dist-packages (from folium) (0.4.1)\n",
            "Requirement already satisfied: numpy in /usr/local/lib/python3.6/dist-packages (from folium) (1.18.5)\n",
            "Requirement already satisfied: jinja2 in /usr/local/lib/python3.6/dist-packages (from folium) (2.11.2)\n",
            "Requirement already satisfied: chardet<4,>=3.0.2 in /usr/local/lib/python3.6/dist-packages (from requests->folium) (3.0.4)\n",
            "Requirement already satisfied: urllib3!=1.25.0,!=1.25.1,<1.26,>=1.21.1 in /usr/local/lib/python3.6/dist-packages (from requests->folium) (1.24.3)\n",
            "Requirement already satisfied: idna<3,>=2.5 in /usr/local/lib/python3.6/dist-packages (from requests->folium) (2.10)\n",
            "Requirement already satisfied: certifi>=2017.4.17 in /usr/local/lib/python3.6/dist-packages (from requests->folium) (2020.6.20)\n",
            "Requirement already satisfied: MarkupSafe>=0.23 in /usr/local/lib/python3.6/dist-packages (from jinja2->folium) (1.1.1)\n"
          ],
          "name": "stdout"
        }
      ]
    },
    {
      "cell_type": "code",
      "metadata": {
        "id": "yG8spS8z2uEK"
      },
      "source": [
        "import geopandas as gpd\n",
        "import matplotlib.pyplot as plt\n",
        "import pandas as pd\n",
        "import numpy as np\n",
        "import folium\n",
        "import os"
      ],
      "execution_count": 4,
      "outputs": []
    },
    {
      "cell_type": "code",
      "metadata": {
        "id": "SMA_lGNY2l99"
      },
      "source": [
        "amenagements = gpd.read_file(\"https://www.data.gouv.fr/fr/datasets/r/33d97256-1829-41d3-b7b5-56e490846b85\")\n",
        "#https://www.data.gouv.fr/fr/datasets/amenagements-velo-en-ile-de-france-2/#_"
      ],
      "execution_count": 5,
      "outputs": []
    },
    {
      "cell_type": "code",
      "metadata": {
        "id": "aOEQQuXEEn4L"
      },
      "source": [
        "#pour simplifier on elève les pistes qui ne sont pas à double sens \n",
        "am = amenagements.dropna(subset = ['ad','ag']) \n",
        "#am.count()\n",
        "#on perd 1000 observations à peu près \n",
        "#am['ad'].unique()"
      ],
      "execution_count": 6,
      "outputs": []
    },
    {
      "cell_type": "code",
      "metadata": {
        "id": "CjfgXSCWHWJ2",
        "outputId": "f9aa93fe-b0d4-44bf-9438-fc6fc9934cc6",
        "colab": {
          "base_uri": "https://localhost:8080/"
        }
      },
      "source": [
        "#on simplifie les types de pistes\n",
        "conditionlist = [\n",
        "                 (am['ad'].isin(['chemin service site propre uni','chemin dedie uni','autre chemin velo uni'])), \n",
        "                 (am['ad'].isin(['cheminement trottoir uni','piste trottoir uni'])),\n",
        "                 (am['ad'].isin(['piste uni', 'piste bi'])),\n",
        "                 (am['ad'].isin(['bande uni', 'bande bi', 'DSC bande'])),\n",
        "                 (am['ad'].isin(['voie verte uni'])),\n",
        "                 (am['ad'].isin(['voie bus uni']))]\n",
        "choicelist = ['voie propre', 'trottoir', 'piste', 'bande', 'voie verte', 'voie bus']\n",
        "am['type'] = np.select(conditionlist, choicelist, default = 'Not Specified')"
      ],
      "execution_count": 7,
      "outputs": [
        {
          "output_type": "stream",
          "text": [
            "/usr/local/lib/python3.6/dist-packages/geopandas/geodataframe.py:853: SettingWithCopyWarning: \n",
            "A value is trying to be set on a copy of a slice from a DataFrame.\n",
            "Try using .loc[row_indexer,col_indexer] = value instead\n",
            "\n",
            "See the caveats in the documentation: https://pandas.pydata.org/pandas-docs/stable/user_guide/indexing.html#returning-a-view-versus-a-copy\n",
            "  super(GeoDataFrame, self).__setitem__(key, value)\n"
          ],
          "name": "stderr"
        }
      ]
    },
    {
      "cell_type": "code",
      "metadata": {
        "id": "iV6Uwf3tLXrp",
        "outputId": "3d1969be-0bf1-4185-99c4-0b2c8701c884",
        "colab": {
          "base_uri": "https://localhost:8080/"
        }
      },
      "source": [
        "conditionlist = [\n",
        "                 (am['type'].isin(['voie propre'])), \n",
        "                 (am['type'].isin(['piste'])),\n",
        "                 (am['type'].isin(['voie verte'])),\n",
        "                 (am['type'].isin(['bande'])),\n",
        "                 (am['type'].isin(['trottoir'])),\n",
        "                 (am['type'].isin(['voie bus']))]\n",
        "choicelist = [1, 2, 3, 4, 5, 6]\n",
        "am['idtype'] = np.select(conditionlist, choicelist, default = 'Not Specified')"
      ],
      "execution_count": 8,
      "outputs": [
        {
          "output_type": "stream",
          "text": [
            "/usr/local/lib/python3.6/dist-packages/geopandas/geodataframe.py:853: SettingWithCopyWarning: \n",
            "A value is trying to be set on a copy of a slice from a DataFrame.\n",
            "Try using .loc[row_indexer,col_indexer] = value instead\n",
            "\n",
            "See the caveats in the documentation: https://pandas.pydata.org/pandas-docs/stable/user_guide/indexing.html#returning-a-view-versus-a-copy\n",
            "  super(GeoDataFrame, self).__setitem__(key, value)\n"
          ],
          "name": "stderr"
        }
      ]
    },
    {
      "cell_type": "code",
      "metadata": {
        "id": "04y1JvyxJFVh",
        "outputId": "b705491f-65a6-4895-96ea-4fc71b1441e6",
        "colab": {
          "base_uri": "https://localhost:8080/"
        }
      },
      "source": [
        "am['idtype'] = am['idtype'].str.replace(',','.').astype(float)\n",
        "#am.dtypes\n",
        "am = am.to_json()"
      ],
      "execution_count": 9,
      "outputs": [
        {
          "output_type": "stream",
          "text": [
            "/usr/local/lib/python3.6/dist-packages/geopandas/geodataframe.py:853: SettingWithCopyWarning: \n",
            "A value is trying to be set on a copy of a slice from a DataFrame.\n",
            "Try using .loc[row_indexer,col_indexer] = value instead\n",
            "\n",
            "See the caveats in the documentation: https://pandas.pydata.org/pandas-docs/stable/user_guide/indexing.html#returning-a-view-versus-a-copy\n",
            "  super(GeoDataFrame, self).__setitem__(key, value)\n"
          ],
          "name": "stderr"
        }
      ]
    },
    {
      "cell_type": "code",
      "metadata": {
        "id": "xBGfhsex-Zmb"
      },
      "source": [
        "centre = [48.8534 , 2.3488] #le centre de paris \n",
        "idf = folium.Map(location = centre, zoom_start = 11) #zoom = 11 permet de voir toute l'idf, à modifier en fct de l'utilisation de l'appli \n",
        "#idf.add_child(folium.GeoJson(am))"
      ],
      "execution_count": 10,
      "outputs": []
    },
    {
      "cell_type": "code",
      "metadata": {
        "id": "X0CwPd8qvvKn"
      },
      "source": [
        "idf"
      ],
      "execution_count": null,
      "outputs": []
    },
    {
      "cell_type": "markdown",
      "metadata": {
        "id": "L3s2KfCHHQAJ"
      },
      "source": [
        "\n",
        "> Là j'arrive pas à afficher joliment les pistes sur folium...\n"
      ]
    },
    {
      "cell_type": "code",
      "metadata": {
        "id": "Jb9uOGczZM1v"
      },
      "source": [
        "#idf.add_child(folium.GeoJson(am, style_function = lambda x : {'fillcolor' : '#00ff00' if x['properties']['type']=='voie verte' else '#00ff00'}))\n",
        "#idf\n",
        "#folium.GeoJson(data, style_function=None, name=None, overlay=True, control=True, show=True, smooth_factor=None, highlight_function=None, tooltip=None)"
      ],
      "execution_count": null,
      "outputs": []
    },
    {
      "cell_type": "code",
      "metadata": {
        "id": "2_XRO3w9iFHX"
      },
      "source": [
        "#idf.add_child(folium.GeoJson(am, style_function = lambda x : {'color' : '#ff0000' if x['properties']['type']=='piste' \n",
        "#                                                              else '#00ff00'}))"
      ],
      "execution_count": null,
      "outputs": []
    },
    {
      "cell_type": "code",
      "metadata": {
        "id": "23ZJuNFZjzis"
      },
      "source": [
        "#idf.add_child(folium.GeoJson(am, style_function = lambda x : {'color' : '000000'  if x['properties']['type']=='voie propre' \n",
        " #                                                             else '#ff0000' if x['properties']['type']=='trottoir' \n",
        "  #                                                            else '#00ffff' if x['properties']['type']=='piste' \n",
        "  #                                                            else '#00ff00' if x['properties']['type']=='voie verte' \n",
        "   #                                                           else '#ffff00' if x['properties']['type']=='bande' \n",
        "    #                                                          else '#ff00ff'}))\n"
      ],
      "execution_count": null,
      "outputs": []
    },
    {
      "cell_type": "markdown",
      "metadata": {
        "id": "UBVz6UGwsNbw"
      },
      "source": [
        "**Partie 2 : calcul d'itinéraire**"
      ]
    },
    {
      "cell_type": "code",
      "metadata": {
        "id": "K0ZkStQKrw-O",
        "outputId": "c2e1e10c-015a-4832-9e2e-bf86cb751c32",
        "colab": {
          "base_uri": "https://localhost:8080/"
        }
      },
      "source": [
        "!pip install pyroutelib3"
      ],
      "execution_count": 11,
      "outputs": [
        {
          "output_type": "stream",
          "text": [
            "Collecting pyroutelib3\n",
            "  Downloading https://files.pythonhosted.org/packages/7c/9d/09a49f557e97745a6a1d8815b35d33106caca271123ed7c9aafc8e7d50de/pyroutelib3-1.6.3.tar.gz\n",
            "Collecting osmiter\n",
            "  Downloading https://files.pythonhosted.org/packages/35/a2/20e60dea7e973216427b84e60195b822914726da119926052268e1d91e68/osmiter-1.1.0.tar.gz\n",
            "Collecting iso8601\n",
            "  Downloading https://files.pythonhosted.org/packages/f5/c7/06b5938e79a09112a256f26a1ae0551b04bc6aafcb71fd7ee2390c2c54c6/iso8601-0.1.13-py2.py3-none-any.whl\n",
            "Requirement already satisfied: protobuf in /usr/local/lib/python3.6/dist-packages (from osmiter->pyroutelib3) (3.12.4)\n",
            "Requirement already satisfied: six>=1.9 in /usr/local/lib/python3.6/dist-packages (from protobuf->osmiter->pyroutelib3) (1.15.0)\n",
            "Requirement already satisfied: setuptools in /usr/local/lib/python3.6/dist-packages (from protobuf->osmiter->pyroutelib3) (50.3.2)\n",
            "Building wheels for collected packages: pyroutelib3, osmiter\n",
            "  Building wheel for pyroutelib3 (setup.py) ... \u001b[?25l\u001b[?25hdone\n",
            "  Created wheel for pyroutelib3: filename=pyroutelib3-1.6.3-cp36-none-any.whl size=9266 sha256=8387413f72270051a5793672797e5c593b13e519136767a0c8c251fc0b301c5b\n",
            "  Stored in directory: /root/.cache/pip/wheels/a5/ce/65/8c46e4d94e5e799a3e5b77ef05a0855fea4a2dfd28c0b68f5e\n",
            "  Building wheel for osmiter (setup.py) ... \u001b[?25l\u001b[?25hdone\n",
            "  Created wheel for osmiter: filename=osmiter-1.1.0-cp36-none-any.whl size=15198 sha256=4e398120cd4d3e181ab4f1282a81e3e2e106fcaae78848780e3337496858cf92\n",
            "  Stored in directory: /root/.cache/pip/wheels/af/4e/00/c4e287bce38952da6fb09fd10d7b5bb2b4e6e6ac1af0d95956\n",
            "Successfully built pyroutelib3 osmiter\n",
            "Installing collected packages: iso8601, osmiter, pyroutelib3\n",
            "Successfully installed iso8601-0.1.13 osmiter-1.1.0 pyroutelib3-1.6.3\n"
          ],
          "name": "stdout"
        }
      ]
    },
    {
      "cell_type": "code",
      "metadata": {
        "id": "vQ8GqP6OsNA1"
      },
      "source": [
        "import pyroutelib3\n",
        "from pyroutelib3 import Router"
      ],
      "execution_count": 12,
      "outputs": []
    },
    {
      "cell_type": "code",
      "metadata": {
        "id": "52HwaXcksXZk",
        "outputId": "209e8072-2427-49bf-d8eb-13cba64ad4ec",
        "colab": {
          "base_uri": "https://localhost:8080/"
        }
      },
      "source": [
        "coor_depart= [48.782792,2.278729] # chez mes parents\n",
        "coor_arrivee= [48.833428,2.346074] #chez moi\n",
        "\n",
        "folium.Marker(coor_depart,popup=\"Départ\").add_to(idf)\n",
        "folium.Marker(coor_arrivee,popup=\"Arrivée\").add_to(idf)\n",
        "\n",
        "router = pyroutelib3.Router(\"cycle\")\n",
        "depart = router.findNode(coor_depart[0], coor_depart[1])\n",
        "print(depart)\n",
        "arrivee = router.findNode(coor_arrivee[0], coor_arrivee[1])\n",
        "print(arrivee)\n",
        "\n",
        "routeLatLons=[coor_depart,coor_arrivee]\n",
        "status, route = router.doRoute(depart, arrivee)\n",
        "if status == 'success':\n",
        "  print(\"votre trajet existe\")\n",
        "  routeLatLons = list(map(router.nodeLatLon, route))\n",
        "else:\n",
        "  print(\"votre trajet n'existe pas\")\n",
        "\n",
        "\n",
        "print(routeLatLons)\n",
        "for coord in routeLatLons:\n",
        "  coord=list(coord)\n",
        "  folium.CircleMarker(coord,radius = 3,fill=True, color='green').add_to(idf)\n",
        "\n",
        "folium.PolyLine(routeLatLons, color=\"red\", weight=2.5, opacity=1).add_to(idf)"
      ],
      "execution_count": 40,
      "outputs": [
        {
          "output_type": "stream",
          "text": [
            "4071188702\n",
            "1820767331\n",
            "votre trajet existe\n",
            "[(48.7828824, 2.278604), (48.7835111, 2.2789991), (48.7835701, 2.281373), (48.7835841, 2.2816924), (48.7835842, 2.2817545), (48.7835842, 2.2818166), (48.7835424, 2.2818332), (48.7835058, 2.2818677), (48.7834775, 2.2819171), (48.7834601, 2.281977), (48.7834551, 2.282042), (48.7834633, 2.2821079), (48.7834842, 2.282167), (48.7835159, 2.2822137), (48.7835554, 2.2822437), (48.7836006, 2.2822541), (48.7836457, 2.2822427), (48.7836862, 2.2822104), (48.783718, 2.2821606), (48.7837384, 2.2820962), (48.783744, 2.2820253), (48.7837344, 2.2819554), (48.7837611, 2.2819501), (48.7837879, 2.2819448), (48.7841188, 2.2817591), (48.7846419, 2.2814736), (48.7848223, 2.2814719), (48.7849286, 2.2815104), (48.7851936, 2.2817354), (48.7855305, 2.2820955), (48.7855751, 2.2821426), (48.7856293, 2.2822), (48.7858208, 2.2824164), (48.7865538, 2.2832092), (48.7866385, 2.2833209), (48.7868437, 2.28345), (48.7870563, 2.2836198), (48.7875922, 2.2839472), (48.7875791, 2.2840155), (48.7872348, 2.2858073), (48.7872261, 2.2858536), (48.7872685, 2.2859272), (48.7878289, 2.2869004), (48.7881294, 2.2872743), (48.7881671, 2.28732), (48.7881659, 2.2873924), (48.788068, 2.2877924), (48.7880194, 2.2878827), (48.7881108, 2.2879121), (48.7883947, 2.2879921), (48.7886714, 2.2880641), (48.7886814, 2.2880677), (48.7888055, 2.2880633), (48.7887894, 2.2881389), (48.7887724, 2.2883038), (48.7888671, 2.2883371), (48.789519, 2.2885366), (48.7901735, 2.2888401), (48.7902344, 2.2887982), (48.7902501, 2.2887874), (48.7904293, 2.2889061), (48.7905733, 2.2889959), (48.7906661, 2.2890549), (48.7909821, 2.2892612), (48.791176, 2.2893877), (48.7912461, 2.2894331), (48.7913516, 2.2894976), (48.7913832, 2.2895371), (48.7914265, 2.2895967), (48.7915318, 2.2896561), (48.7916249, 2.2897129), (48.791692, 2.2897552), (48.7917694, 2.2898959), (48.791781, 2.289917), (48.7918406, 2.290082), (48.7918919, 2.290191), (48.7919069, 2.2902556), (48.7919271, 2.2903423), (48.7919594, 2.2903645), (48.7919952, 2.2904472), (48.7920326, 2.2905336), (48.7920722, 2.2906716), (48.7921426, 2.2907561), (48.7925959, 2.2908959), (48.7927, 2.291016), (48.7927923, 2.2911673), (48.7928334, 2.2913008), (48.7929667, 2.2915585), (48.7928146, 2.2920119), (48.792799, 2.2920798), (48.7927581, 2.2922574), (48.7928386, 2.29248), (48.792999, 2.2928093), (48.7931484, 2.2930047), (48.7932517, 2.293038), (48.7934538, 2.2931402), (48.7935525, 2.2931901), (48.793586, 2.2932153), (48.7935973, 2.2932256), (48.7936095, 2.2932352), (48.7936471, 2.2932743), (48.7936575, 2.2932852), (48.7936719, 2.2933001), (48.7936918, 2.2933262), (48.7939249, 2.2936335), (48.7943764, 2.2941352), (48.7944278, 2.2941844), (48.7944985, 2.2942069), (48.7945198, 2.2942204), (48.7945469, 2.2942512), (48.7945693, 2.2942874), (48.7945958, 2.2943097), (48.7946597, 2.2943742), (48.7951895, 2.2946673), (48.7953107, 2.2946258), (48.7954412, 2.2945585), (48.7955602, 2.2946307), (48.7956284, 2.2946762), (48.7956852, 2.294729), (48.7957544, 2.2947972), (48.7959984, 2.2950405), (48.7961975, 2.2952798), (48.7967858, 2.2958258), (48.7973318, 2.2963301), (48.7973532, 2.2963779), (48.7973751, 2.2964662), (48.7974203, 2.2965679), (48.7976107, 2.296748), (48.797628, 2.2967574), (48.7976719, 2.2967767), (48.7977384, 2.2965458), (48.7979528, 2.2957536), (48.7979612, 2.2957204), (48.7980019, 2.2957452), (48.7980527, 2.2957771), (48.7980908, 2.2957675), (48.7981726, 2.2957479), (48.7983577, 2.2957357), (48.7989783, 2.2957626), (48.799553, 2.2959309), (48.799645, 2.2959794), (48.7997007, 2.2959913), (48.799766, 2.2960004), (48.7999962, 2.296034), (48.8003402, 2.2960794), (48.8003789, 2.2960462), (48.8004285, 2.2959765), (48.8004932, 2.2958965), (48.8005204, 2.2958612), (48.8007159, 2.2959531), (48.8009219, 2.2959062), (48.8015873, 2.2953616), (48.8016186, 2.2953358), (48.8017096, 2.2952622), (48.8017605, 2.2952211), (48.8022, 2.2947868), (48.8023679, 2.2946787), (48.8025183, 2.2946243), (48.8027177, 2.2945804), (48.8027676, 2.2945307), (48.8027779, 2.2945488), (48.8028764, 2.2947253), (48.8034195, 2.295729), (48.8043042, 2.2973644), (48.8043399, 2.2974219), (48.8049348, 2.2964006), (48.8049921, 2.2963184), (48.8050689, 2.2963956), (48.8052409, 2.2965829), (48.805331, 2.2966851), (48.8055121, 2.2968614), (48.8057536, 2.297064), (48.8058753, 2.2971661), (48.8062187, 2.2974569), (48.8063816, 2.297601), (48.8065707, 2.29778), (48.8066497, 2.2978565), (48.8067287, 2.2979423), (48.8067363, 2.2979949), (48.8067405, 2.2980361), (48.8067425, 2.2981229), (48.8067723, 2.298202), (48.8070115, 2.2982338), (48.8070551, 2.2982474), (48.8070927, 2.2982709), (48.8071439, 2.2983457), (48.8071576, 2.2983815), (48.8072376, 2.2984731), (48.8072753, 2.2984982), (48.8073176, 2.2984938), (48.8073521, 2.2984654), (48.8073752, 2.2984181), (48.8073862, 2.298354), (48.8075428, 2.2982575), (48.8075307, 2.2983247), (48.8075214, 2.2983764), (48.8075182, 2.2983944), (48.8075087, 2.2984656), (48.8075358, 2.2985644), (48.807621, 2.2986739), (48.8081193, 2.2993136), (48.808301, 2.2994945), (48.8084259, 2.2995573), (48.808612, 2.2995574), (48.8087686, 2.2996273), (48.8087932, 2.2996412), (48.8097477, 2.3000951), (48.8097745, 2.3001091), (48.8099781, 2.3002093), (48.809986, 2.3002142), (48.8100184, 2.3002356), (48.8101068, 2.3003355), (48.8101157, 2.30035), (48.8101632, 2.3004092), (48.8102691, 2.3005316), (48.8103805, 2.3006746), (48.8103938, 2.3006913), (48.8104122, 2.3007137), (48.8104327, 2.3007392), (48.8104549, 2.3007664), (48.81049, 2.3008022), (48.8105061, 2.3008172), (48.8105276, 2.3008281), (48.8105558, 2.3008317), (48.8105796, 2.3008861), (48.8105581, 2.3010812), (48.8105364, 2.3013533), (48.8105591, 2.3016539), (48.8106068, 2.3020191), (48.8106085, 2.3020793), (48.8105893, 2.3022344), (48.8105738, 2.3022882), (48.8106944, 2.30239), (48.8110412, 2.3026544), (48.8111162, 2.3027195), (48.8111465, 2.3027458), (48.8111674, 2.302765), (48.8112795, 2.3028679), (48.8114373, 2.3030823), (48.811473, 2.3031418), (48.8114868, 2.3031632), (48.8115641, 2.3032837), (48.8116674, 2.3034657), (48.8116801, 2.3034914), (48.8119503, 2.3039797), (48.8121812, 2.3043902), (48.8125926, 2.3051051), (48.8126055, 2.3051275), (48.8126695, 2.3052409), (48.8127018, 2.3052946), (48.8127399, 2.3053612), (48.8130399, 2.3058845), (48.8130995, 2.3059873), (48.813161, 2.3061009), (48.8132969, 2.3063323), (48.8133553, 2.3064323), (48.8135152, 2.3067027), (48.8135816, 2.306821), (48.8135422, 2.3069233), (48.8132415, 2.3077131), (48.8131416, 2.3079685), (48.813046, 2.3082325), (48.8130274, 2.308283), (48.8129324, 2.308567), (48.8126943, 2.3093008), (48.8126553, 2.3094397), (48.8126335, 2.3095173), (48.8126004, 2.3096348), (48.8125693, 2.3097303), (48.8125333, 2.3098406), (48.812105, 2.3111513), (48.8120777, 2.3112271), (48.8120416, 2.3113355), (48.8120087, 2.3114327), (48.8118047, 2.3121938), (48.8117638, 2.312348), (48.8116796, 2.3126656), (48.8116572, 2.31275), (48.8116945, 2.3127707), (48.8125652, 2.3133261), (48.812601, 2.3133484), (48.8126478, 2.3133775), (48.8133719, 2.3138319), (48.8134168, 2.313859), (48.8131911, 2.3146946), (48.8131841, 2.3147227), (48.8131745, 2.3147563), (48.8131635, 2.3147963), (48.8131566, 2.3148264), (48.8128547, 2.3159347), (48.8128476, 2.3159607), (48.8128132, 2.3160852), (48.8127914, 2.3161648), (48.8127845, 2.3161904), (48.8126143, 2.3168241), (48.8124272, 2.3175012), (48.8123934, 2.3176241), (48.8122279, 2.3182287), (48.8122659, 2.3182527), (48.81329, 2.3189), (48.8133442, 2.3189344), (48.8134831, 2.3184429), (48.8135262, 2.3184689), (48.8147914, 2.3192467), (48.8148446, 2.3192766), (48.8149037, 2.3193149), (48.8163832, 2.3202116), (48.816418, 2.3202335), (48.8168455, 2.3204852), (48.8168455, 2.3204853), (48.8168808, 2.3205059), (48.816903, 2.3203878), (48.8170428, 2.3196302), (48.8171427, 2.3190692), (48.8171644, 2.31896), (48.8171984, 2.318978), (48.8172399, 2.3189791), (48.8172793, 2.3189589), (48.8173119, 2.3189198), (48.817334, 2.3188663), (48.8173825, 2.3189105), (48.8174234, 2.3189393), (48.8176938, 2.319107), (48.8177692, 2.3191545), (48.8179063, 2.3192378), (48.818084, 2.3193481), (48.8182774, 2.3194618), (48.818353, 2.3195106), (48.8185092, 2.3196067), (48.818593, 2.3196608), (48.8185899, 2.3197272), (48.8185904, 2.3197424), (48.8186117, 2.3197323), (48.818833, 2.3198704), (48.8189778, 2.31996), (48.8192531, 2.3201316), (48.8192788, 2.3201473), (48.8193058, 2.3201639), (48.8194248, 2.3202372), (48.8194551, 2.3201955), (48.8195503, 2.320256), (48.8195707, 2.3202685), (48.8196932, 2.3203802), (48.8207202, 2.3210169), (48.8207398, 2.3210278), (48.820801, 2.3210697), (48.8208457, 2.321103), (48.8208689, 2.3211264), (48.8210235, 2.3212821), (48.8210466, 2.3213054), (48.8210763, 2.3213353), (48.821235, 2.3214717), (48.821969, 2.3221664), (48.8223386, 2.3225136), (48.8225426, 2.3226038), (48.822658, 2.3226622), (48.8227533, 2.3227058), (48.8234731, 2.3230632), (48.8235607, 2.3231037), (48.8235918, 2.3231187), (48.823615, 2.3231301), (48.8235802, 2.3232834), (48.8235758, 2.3233066), (48.8235773, 2.3233395), (48.8235833, 2.3234073), (48.8235003, 2.3237888), (48.8232543, 2.3242976), (48.8232347, 2.3243328), (48.8232122, 2.3243695), (48.823024, 2.3251965), (48.8230141, 2.3252465), (48.823004, 2.3252848), (48.8229535, 2.3253498), (48.8229108, 2.3255577), (48.822921, 2.3256691), (48.8229092, 2.3257213), (48.8229021, 2.3257484), (48.8228816, 2.325846), (48.8227255, 2.3265052), (48.8227237, 2.3266027), (48.8227265, 2.326664), (48.8227302, 2.326786), (48.8227299, 2.327273), (48.8225982, 2.3278851), (48.8225889, 2.3279281), (48.822578, 2.3279727), (48.8223696, 2.3289085), (48.8223374, 2.329052), (48.8223253, 2.3291142), (48.8221142, 2.3300716), (48.8221029, 2.3301229), (48.8220851, 2.33015), (48.8220608, 2.33016), (48.8220483, 2.33022), (48.82204, 2.33026), (48.8220289, 2.330313), (48.8220187, 2.3303631), (48.8220869, 2.330388), (48.8221427, 2.3304083), (48.8221693, 2.3304179), (48.8222238, 2.3304387), (48.8222327, 2.3304032), (48.8222916, 2.3304237), (48.8223144, 2.3304321), (48.8223621, 2.3304497), (48.8224346, 2.3304765), (48.8230959, 2.3307265), (48.8232253, 2.3307754), (48.8235333, 2.330882), (48.8235798, 2.3308934), (48.823643, 2.3309021), (48.8236593, 2.3310684), (48.8237599, 2.3320365), (48.8238552, 2.3328672), (48.8241629, 2.3355503), (48.8241902, 2.335788), (48.8242032, 2.3359018), (48.8242171, 2.3360465), (48.8242268, 2.3361607), (48.824242, 2.3363053), (48.8242514, 2.3363953), (48.8243993, 2.3377126), (48.8244579, 2.3382273), (48.824469, 2.3383302), (48.8245388, 2.3383146), (48.8247747, 2.3382609), (48.8251492, 2.3382151), (48.8252214, 2.3382137), (48.8253787, 2.3382206), (48.8255674, 2.3382435), (48.8257938, 2.3382768), (48.825962, 2.3383208), (48.826107, 2.3383663), (48.8262215, 2.338409), (48.8264389, 2.338479), (48.8268376, 2.3386081), (48.8269153, 2.3386333), (48.8268963, 2.3387639), (48.8268868, 2.3388291), (48.8267923, 2.339483), (48.826554, 2.3412083), (48.8265267, 2.341269), (48.8265021, 2.3413476), (48.8264858, 2.3414213), (48.8264597, 2.3415882), (48.8264392, 2.3417006), (48.8264202, 2.3417955), (48.8264922, 2.3418236), (48.8265984, 2.3418699), (48.8267418, 2.341931), (48.826819, 2.3419639), (48.8270119, 2.3420461), (48.8282052, 2.3425505), (48.8282977, 2.3426066), (48.8283517, 2.3426481), (48.8284786, 2.3427677), (48.8285175, 2.3428043), (48.8285833, 2.3428663), (48.8286854, 2.3429737), (48.8288048, 2.3430751), (48.8289666, 2.3431778), (48.8291316, 2.3432863), (48.8292244, 2.3433431), (48.8292499, 2.3433576), (48.8292772, 2.343373), (48.8293284, 2.3434016), (48.8300637, 2.3438123), (48.8301235, 2.3438452), (48.8302271, 2.3438998), (48.8303141, 2.3439489), (48.8304228, 2.3439992), (48.830665, 2.3440815), (48.8307598, 2.3441189), (48.8308116, 2.3441388), (48.8308965, 2.3441736), (48.8309886, 2.3442113), (48.8311038, 2.3442585), (48.8312063, 2.3442782), (48.8316216, 2.3443579), (48.8316883, 2.3443707), (48.8317347, 2.344489), (48.8320208, 2.3451928), (48.8324725, 2.3463043), (48.8324986, 2.3463685), (48.8326622, 2.346771), (48.8327045, 2.3468749), (48.8327385, 2.3469587), (48.83281, 2.3469233), (48.8329247, 2.3468679), (48.8329617, 2.346847), (48.8335572, 2.346547)]\n"
          ],
          "name": "stdout"
        },
        {
          "output_type": "execute_result",
          "data": {
            "text/plain": [
              "<folium.vector_layers.PolyLine at 0x7fddf0e43240>"
            ]
          },
          "metadata": {
            "tags": []
          },
          "execution_count": 40
        }
      ]
    },
    {
      "cell_type": "code",
      "metadata": {
        "id": "tTGkjHNnuI5e"
      },
      "source": [
        "idf"
      ],
      "execution_count": null,
      "outputs": []
    },
    {
      "cell_type": "markdown",
      "metadata": {
        "id": "bOpS16yoB7eg"
      },
      "source": [
        "\n",
        "> on calcule la distance du trajet \n"
      ]
    },
    {
      "cell_type": "code",
      "metadata": {
        "id": "BoKISAPA9MBe",
        "outputId": "205b8a2d-5a89-4dab-a167-deb3825b5ac1",
        "colab": {
          "base_uri": "https://localhost:8080/"
        }
      },
      "source": [
        "distance = 0\n",
        "for x in range(len(routeLatLons)-1):\n",
        "  a = (max(routeLatLons[x][0], routeLatLons[x+1][0]) - min(routeLatLons[x][0], routeLatLons[x+1][0]))**2 + (max(routeLatLons[x][1], routeLatLons[x+1][1]) - min(routeLatLons[x][1], routeLatLons[x+1][1]))**2\n",
        "  a = a**(1/2)*100\n",
        "  distance = distance + a\n",
        "print(\"Votre trajet est de\", distance, \"km\")"
      ],
      "execution_count": 33,
      "outputs": [
        {
          "output_type": "stream",
          "text": [
            "Votre trajet est de 11.445355647295797 km\n"
          ],
          "name": "stdout"
        }
      ]
    }
  ]
}