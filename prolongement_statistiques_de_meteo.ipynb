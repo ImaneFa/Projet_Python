{
 "cells": [
  {
   "cell_type": "markdown",
   "metadata": {},
   "source": [
    "### Prolongement innabouti faute de données"
   ]
  },
  {
   "cell_type": "code",
   "execution_count": 36,
   "metadata": {},
   "outputs": [
    {
     "name": "stderr",
     "output_type": "stream",
     "text": [
      "C:\\Users\\Vinciane\\Anaconda3\\lib\\site-packages\\IPython\\core\\interactiveshell.py:3058: DtypeWarning: Columns (5,6,15) have mixed types. Specify dtype option on import or set low_memory=False.\n",
      "  interactivity=interactivity, compiler=compiler, result=result)\n"
     ]
    }
   ],
   "source": [
    "accident_velo = pd.read_csv('https://www.data.gouv.fr/fr/datasets/r/3d5f2317-5afd-4a9f-a9c5-bd4fe0113f39')\n",
    "accident_velo_idf = accident_velo[accident_velo['departement'].isin(['75','77','78','91','92','93','94','95'])]\n",
    "# Il y a un problème avec les latitudes et les longitudes nulles et les quelques erreurs"
   ]
  },
  {
   "cell_type": "code",
   "execution_count": 37,
   "metadata": {},
   "outputs": [
    {
     "data": {
      "text/html": [
       "<div>\n",
       "<style scoped>\n",
       "    .dataframe tbody tr th:only-of-type {\n",
       "        vertical-align: middle;\n",
       "    }\n",
       "\n",
       "    .dataframe tbody tr th {\n",
       "        vertical-align: top;\n",
       "    }\n",
       "\n",
       "    .dataframe thead th {\n",
       "        text-align: right;\n",
       "    }\n",
       "</style>\n",
       "<table border=\"1\" class=\"dataframe\">\n",
       "  <thead>\n",
       "    <tr style=\"text-align: right;\">\n",
       "      <th></th>\n",
       "      <th>identifiant accident</th>\n",
       "      <th>date</th>\n",
       "      <th>mois</th>\n",
       "      <th>jour</th>\n",
       "      <th>heure</th>\n",
       "      <th>departement</th>\n",
       "      <th>luminosite</th>\n",
       "      <th>conditions atmosperiques</th>\n",
       "      <th>etat surface</th>\n",
       "      <th>sexe</th>\n",
       "      <th>age</th>\n",
       "      <th>gravite accident</th>\n",
       "      <th>commune</th>\n",
       "    </tr>\n",
       "  </thead>\n",
       "  <tbody>\n",
       "    <tr>\n",
       "      <td>58</td>\n",
       "      <td>200500001606</td>\n",
       "      <td>2005-01-13</td>\n",
       "      <td>01 - janvier</td>\n",
       "      <td>3 - jeudi</td>\n",
       "      <td>11.0</td>\n",
       "      <td>78</td>\n",
       "      <td>Plein jour</td>\n",
       "      <td>Normale</td>\n",
       "      <td>normale</td>\n",
       "      <td>M</td>\n",
       "      <td>61-62</td>\n",
       "      <td>2 - Blessé hospitalisé</td>\n",
       "      <td>78230</td>\n",
       "    </tr>\n",
       "    <tr>\n",
       "      <td>61</td>\n",
       "      <td>200500001930</td>\n",
       "      <td>2005-01-15</td>\n",
       "      <td>01 - janvier</td>\n",
       "      <td>5 - samedi</td>\n",
       "      <td>15.0</td>\n",
       "      <td>95</td>\n",
       "      <td>Plein jour</td>\n",
       "      <td>Normale</td>\n",
       "      <td>normale</td>\n",
       "      <td>M</td>\n",
       "      <td>58-59</td>\n",
       "      <td>0 - Indemne</td>\n",
       "      <td>95042</td>\n",
       "    </tr>\n",
       "    <tr>\n",
       "      <td>221</td>\n",
       "      <td>200500004591</td>\n",
       "      <td>2005-01-04</td>\n",
       "      <td>01 - janvier</td>\n",
       "      <td>1 - mardi</td>\n",
       "      <td>17.0</td>\n",
       "      <td>75</td>\n",
       "      <td>Nuit avec éclairage public allumé</td>\n",
       "      <td>Normale</td>\n",
       "      <td>normale</td>\n",
       "      <td>M</td>\n",
       "      <td>36-37</td>\n",
       "      <td>1 - Blessé léger</td>\n",
       "      <td>75001</td>\n",
       "    </tr>\n",
       "    <tr>\n",
       "      <td>222</td>\n",
       "      <td>200500004597</td>\n",
       "      <td>2005-01-03</td>\n",
       "      <td>01 - janvier</td>\n",
       "      <td>0 - lundi</td>\n",
       "      <td>9.0</td>\n",
       "      <td>75</td>\n",
       "      <td>Plein jour</td>\n",
       "      <td>Normale</td>\n",
       "      <td>normale</td>\n",
       "      <td>M</td>\n",
       "      <td>26-27</td>\n",
       "      <td>0 - Indemne</td>\n",
       "      <td>75005</td>\n",
       "    </tr>\n",
       "    <tr>\n",
       "      <td>223</td>\n",
       "      <td>200500004600</td>\n",
       "      <td>2005-01-03</td>\n",
       "      <td>01 - janvier</td>\n",
       "      <td>0 - lundi</td>\n",
       "      <td>17.0</td>\n",
       "      <td>75</td>\n",
       "      <td>Nuit avec éclairage public allumé</td>\n",
       "      <td>Normale</td>\n",
       "      <td>normale</td>\n",
       "      <td>M</td>\n",
       "      <td>31-32</td>\n",
       "      <td>0 - Indemne</td>\n",
       "      <td>75019</td>\n",
       "    </tr>\n",
       "    <tr>\n",
       "      <td>...</td>\n",
       "      <td>...</td>\n",
       "      <td>...</td>\n",
       "      <td>...</td>\n",
       "      <td>...</td>\n",
       "      <td>...</td>\n",
       "      <td>...</td>\n",
       "      <td>...</td>\n",
       "      <td>...</td>\n",
       "      <td>...</td>\n",
       "      <td>...</td>\n",
       "      <td>...</td>\n",
       "      <td>...</td>\n",
       "      <td>...</td>\n",
       "    </tr>\n",
       "    <tr>\n",
       "      <td>65531</td>\n",
       "      <td>201800050291</td>\n",
       "      <td>2018-07-10</td>\n",
       "      <td>07 - juillet</td>\n",
       "      <td>1 - mardi</td>\n",
       "      <td>9.0</td>\n",
       "      <td>75</td>\n",
       "      <td>Plein jour</td>\n",
       "      <td>Normale</td>\n",
       "      <td>normale</td>\n",
       "      <td>F</td>\n",
       "      <td>58-59</td>\n",
       "      <td>2 - Blessé hospitalisé</td>\n",
       "      <td>75101</td>\n",
       "    </tr>\n",
       "    <tr>\n",
       "      <td>65532</td>\n",
       "      <td>201800050337</td>\n",
       "      <td>2018-11-17</td>\n",
       "      <td>11 - novembre</td>\n",
       "      <td>5 - samedi</td>\n",
       "      <td>12.0</td>\n",
       "      <td>75</td>\n",
       "      <td>Plein jour</td>\n",
       "      <td>Normale</td>\n",
       "      <td>normale</td>\n",
       "      <td>M</td>\n",
       "      <td>59-60</td>\n",
       "      <td>1 - Blessé léger</td>\n",
       "      <td>75101</td>\n",
       "    </tr>\n",
       "    <tr>\n",
       "      <td>65533</td>\n",
       "      <td>201800050355</td>\n",
       "      <td>2018-02-01</td>\n",
       "      <td>02 - février</td>\n",
       "      <td>3 - jeudi</td>\n",
       "      <td>15.0</td>\n",
       "      <td>75</td>\n",
       "      <td>Plein jour</td>\n",
       "      <td>Temps couvert</td>\n",
       "      <td>mouillée</td>\n",
       "      <td>M</td>\n",
       "      <td>31-32</td>\n",
       "      <td>1 - Blessé léger</td>\n",
       "      <td>75102</td>\n",
       "    </tr>\n",
       "    <tr>\n",
       "      <td>65534</td>\n",
       "      <td>201800050359</td>\n",
       "      <td>2018-02-12</td>\n",
       "      <td>02 - février</td>\n",
       "      <td>0 - lundi</td>\n",
       "      <td>9.0</td>\n",
       "      <td>75</td>\n",
       "      <td>Plein jour</td>\n",
       "      <td>Normale</td>\n",
       "      <td>normale</td>\n",
       "      <td>F</td>\n",
       "      <td>29-30</td>\n",
       "      <td>1 - Blessé léger</td>\n",
       "      <td>75101</td>\n",
       "    </tr>\n",
       "    <tr>\n",
       "      <td>65535</td>\n",
       "      <td>201800050370</td>\n",
       "      <td>2018-05-28</td>\n",
       "      <td>05 - mai</td>\n",
       "      <td>0 - lundi</td>\n",
       "      <td>19.0</td>\n",
       "      <td>75</td>\n",
       "      <td>Crépuscule ou aube</td>\n",
       "      <td>Pluie forte</td>\n",
       "      <td>NaN</td>\n",
       "      <td>M</td>\n",
       "      <td>40-41</td>\n",
       "      <td>1 - Blessé léger</td>\n",
       "      <td>75102</td>\n",
       "    </tr>\n",
       "  </tbody>\n",
       "</table>\n",
       "<p>17541 rows × 13 columns</p>\n",
       "</div>"
      ],
      "text/plain": [
       "       identifiant accident        date           mois        jour  heure  \\\n",
       "58             200500001606  2005-01-13   01 - janvier   3 - jeudi   11.0   \n",
       "61             200500001930  2005-01-15   01 - janvier  5 - samedi   15.0   \n",
       "221            200500004591  2005-01-04   01 - janvier   1 - mardi   17.0   \n",
       "222            200500004597  2005-01-03   01 - janvier   0 - lundi    9.0   \n",
       "223            200500004600  2005-01-03   01 - janvier   0 - lundi   17.0   \n",
       "...                     ...         ...            ...         ...    ...   \n",
       "65531          201800050291  2018-07-10   07 - juillet   1 - mardi    9.0   \n",
       "65532          201800050337  2018-11-17  11 - novembre  5 - samedi   12.0   \n",
       "65533          201800050355  2018-02-01   02 - février   3 - jeudi   15.0   \n",
       "65534          201800050359  2018-02-12   02 - février   0 - lundi    9.0   \n",
       "65535          201800050370  2018-05-28       05 - mai   0 - lundi   19.0   \n",
       "\n",
       "      departement                         luminosite conditions atmosperiques  \\\n",
       "58             78                         Plein jour                  Normale   \n",
       "61             95                         Plein jour                  Normale   \n",
       "221            75  Nuit avec éclairage public allumé                  Normale   \n",
       "222            75                         Plein jour                  Normale   \n",
       "223            75  Nuit avec éclairage public allumé                  Normale   \n",
       "...           ...                                ...                      ...   \n",
       "65531          75                         Plein jour                  Normale   \n",
       "65532          75                         Plein jour                  Normale   \n",
       "65533          75                         Plein jour            Temps couvert   \n",
       "65534          75                         Plein jour                  Normale   \n",
       "65535          75                 Crépuscule ou aube              Pluie forte   \n",
       "\n",
       "      etat surface sexe    age        gravite accident commune  \n",
       "58         normale    M  61-62  2 - Blessé hospitalisé   78230  \n",
       "61         normale    M  58-59             0 - Indemne   95042  \n",
       "221        normale    M  36-37        1 - Blessé léger   75001  \n",
       "222        normale    M  26-27             0 - Indemne   75005  \n",
       "223        normale    M  31-32             0 - Indemne   75019  \n",
       "...            ...  ...    ...                     ...     ...  \n",
       "65531      normale    F  58-59  2 - Blessé hospitalisé   75101  \n",
       "65532      normale    M  59-60        1 - Blessé léger   75101  \n",
       "65533     mouillée    M  31-32        1 - Blessé léger   75102  \n",
       "65534      normale    F  29-30        1 - Blessé léger   75101  \n",
       "65535          NaN    M  40-41        1 - Blessé léger   75102  \n",
       "\n",
       "[17541 rows x 13 columns]"
      ]
     },
     "execution_count": 37,
     "metadata": {},
     "output_type": "execute_result"
    }
   ],
   "source": [
    "accident_velo_idf_meteo = accident_velo_idf[['identifiant accident','date','mois', 'jour', 'heure', 'departement','luminosite', 'conditions atmosperiques', 'etat surface', 'sexe', 'age', 'gravite accident', 'commune', ]]\n",
    "accident_velo_idf_meteo"
   ]
  },
  {
   "cell_type": "markdown",
   "metadata": {},
   "source": [
    "D'après ce site, on a  https://www.iau-idf.fr/fileadmin/NewEtudes/Etude_1120/40ansEvolutionVelo.pdf"
   ]
  },
  {
   "cell_type": "code",
   "execution_count": 32,
   "metadata": {
    "scrolled": true
   },
   "outputs": [
    {
     "data": {
      "text/plain": [
       "<matplotlib.axes._subplots.AxesSubplot at 0x24863dff388>"
      ]
     },
     "execution_count": 32,
     "metadata": {},
     "output_type": "execute_result"
    },
    {
     "data": {
      "image/png": "[encoded data removed]",
      "text/plain": [
       "<Figure size 432x288 with 1 Axes>"
      ]
     },
     "metadata": {
      "needs_background": "light"
     },
     "output_type": "display_data"
    }
   ],
   "source": [
    "annee =[2001, 2010, 2018]\n",
    "Deplacements_quotidiens= [302219, 652496,840000]\n",
    "d = {'annee': annee, 'Deplacements_quotidiens': Deplacements_quotidiens}\n",
    "df = pd.DataFrame(data=d)\n",
    "df.plot('annee')\n",
    "#Rajouter titre"
   ]
  },
  {
   "cell_type": "code",
   "execution_count": 33,
   "metadata": {},
   "outputs": [
    {
     "data": {
      "text/plain": [
       "6240583002.666666"
      ]
     },
     "execution_count": 33,
     "metadata": {},
     "output_type": "execute_result"
    }
   ],
   "source": [
    "from datetime import date\n",
    "l = []\n",
    "for i in range (2005,2018):\n",
    "    d0 = date(i, 1, 1)\n",
    "    d1 = date(i+1,12, 31)\n",
    "    delta = d1 - d0\n",
    "    nb_deplacement_an = delta.days*np.interp(i, annee, Deplacements_quotidiens)\n",
    "    l.append(nb_deplacement_an)\n",
    "nb_deplacement_total = sum(l) #Nombre  total de trajet parcourus\n",
    "nb_deplacement_total"
   ]
  },
  {
   "cell_type": "code",
   "execution_count": 35,
   "metadata": {},
   "outputs": [
    {
     "data": {
      "text/plain": [
       "2.8107950799636104e-06"
      ]
     },
     "execution_count": 35,
     "metadata": {},
     "output_type": "execute_result"
    }
   ],
   "source": [
    "#Nombre d'accident par rapport au total des déplacements entre 2005 et 2018\n",
    "#Fréquence d'un accident\n",
    "len(accident_velo_idf)/nb_deplacement_total \n"
   ]
  },
  {
   "cell_type": "markdown",
   "metadata": {},
   "source": [
    "Réflexion sur les clusters, autre méthode :\n"
   ]
  },
  {
   "cell_type": "markdown",
   "metadata": {},
   "source": [
    "Aller voir sur le site : https://levelup.gitconnected.com/clustering-gps-co-ordinates-forming-regions-4f50caa7e4a1\n",
    "autre site : https://geoffboeing.com/2014/08/clustering-to-reduce-spatial-data-set-size/\n",
    "autre site utile : https://medium.com/datadriveninvestor/weighted-k-means-clustering-of-gps-coordinates-python-7c6270846163"
   ]
  },
  {
   "cell_type": "code",
   "execution_count": null,
   "metadata": {},
   "outputs": [],
   "source": [
    "from sklearn.cluster import KMeans\n",
    "import seaborn as sns; sns.set()"
   ]
  },
  {
   "cell_type": "code",
   "execution_count": null,
   "metadata": {},
   "outputs": [],
   "source": [
    "K_clusters = range(10,100)\n",
    "kmeans = [KMeans(n_clusters=i) for i in K_clusters]\n",
    "Y_axis = gdf[['lat']]\n",
    "X_axis = gdf[['lon']]\n",
    "score = [kmeans[i].fit(Y_axis).score(Y_axis) for i in range(len(kmeans))]\n",
    "# Visualize\n",
    "plt.plot(K_clusters, score)\n",
    "plt.xlabel('Number of Clusters')\n",
    "plt.ylabel('Score')\n",
    "plt.title('Elbow Curve')\n",
    "plt.show()"
   ]
  },
  {
   "cell_type": "code",
   "execution_count": null,
   "metadata": {},
   "outputs": [],
   "source": [
    "#on définit pour la suite le nombre de clusters qu'on souhaite\n",
    "k =30"
   ]
  },
  {
   "cell_type": "code",
   "execution_count": null,
   "metadata": {},
   "outputs": [],
   "source": [
    "X=gdf.loc[:,['identifiant accident','lat','lon']]"
   ]
  },
  {
   "cell_type": "code",
   "execution_count": null,
   "metadata": {},
   "outputs": [],
   "source": [
    "kmeans = KMeans(n_clusters = k, init ='k-means++')\n",
    "kmeans.fit(X[X.columns[1:3]]) # Compute k-means clustering.\n",
    "X['cluster_label'] = kmeans.fit_predict(X[X.columns[1:3]])\n",
    "centers = kmeans.cluster_centers_ # Coordinates of cluster centers.\n",
    "labels = kmeans.predict(X[X.columns[1:3]]) # Labels of each point\n",
    "X.sort_values(by = 'lat').head(10)"
   ]
  },
  {
   "cell_type": "code",
   "execution_count": null,
   "metadata": {},
   "outputs": [],
   "source": [
    "plt.scatter(x = X.lat, y = X.lon, s=1, c=labels,cmap='viridis')\n",
    "plt.scatter(centers[:, 0], centers[:, 1], s=200, alpha =0.5, c='black')\n",
    "plt.xlabel('latitude')\n",
    "plt.ylabel('longitude')"
   ]
  },
  {
   "cell_type": "code",
   "execution_count": null,
   "metadata": {},
   "outputs": [],
   "source": [
    "model = cluster.AffinityPropagation()\n",
    "k = X[\"cluster_label\"].nunique()"
   ]
  },
  {
   "cell_type": "code",
   "execution_count": null,
   "metadata": {},
   "outputs": [],
   "source": [
    "sns.scatterplot(x= X.lat, y=X.lon, \n",
    "                palette=sns.color_palette(\"bright\", k),\n",
    "                legend=\"brief\").set_title('Clustering (k='+str(k)+')')"
   ]
  },
  {
   "cell_type": "code",
   "execution_count": null,
   "metadata": {},
   "outputs": [],
   "source": [
    "X = X[['identifiant accident','cluster_label']]\n",
    "X.head(5)"
   ]
  },
  {
   "cell_type": "code",
   "execution_count": null,
   "metadata": {},
   "outputs": [],
   "source": [
    "clustered_data = gdf.merge(X, left_on='identifiant accident', right_on='identifiant accident')\n",
    "clustered_data.head(5)"
   ]
  },
  {
   "cell_type": "markdown",
   "metadata": {},
   "source": [
    "Cluster avec la méthode DBSCAn, pour trouver le epsilon"
   ]
  },
  {
   "cell_type": "code",
   "execution_count": null,
   "metadata": {},
   "outputs": [],
   "source": [
    "X=gdf.loc[:,['lat','lon']]\n",
    "#X\n",
    "#gdf\n",
    "from sklearn.neighbors import NearestNeighbors\n",
    "import matplotlib.pyplot as plt\n",
    "import numpy as np"
   ]
  },
  {
   "cell_type": "code",
   "execution_count": null,
   "metadata": {},
   "outputs": [],
   "source": [
    "neigh = NearestNeighbors(n_neighbors=2) # à vérifier\n",
    "nbrs = neigh.fit(X)\n",
    "distances, indices = nbrs.kneighbors(X)\n",
    "distances = np.sort(distances, axis=0)\n",
    "distances = distances[:,1] # On fit avec le training set donc le plus proche voisin est lui-même\n",
    "plt.figure(figsize=(10,6))\n",
    "plt.plot(distances)\n",
    "plt.title('K-distance Graph',fontsize=20)\n",
    "plt.xlabel('Data Points sorted by distance',fontsize=14)\n",
    "plt.ylabel('Epsilon',fontsize=14)\n",
    "plt.axvline(x=(0.9)*3462, c ='red')\n",
    "plt.axhline(y=0.01, c= 'pink')\n",
    "plt.show()\n",
    "#Comme nous l’avons vu précédemment nous allons choisir un ε de tel sorte que 90% des observations aient une distance au proche voisin inférieure à ε. \n",
    "#je fais 0.9*3600 données = 3200, on voit pour 3200 epsilon environ = 0.01\n",
    "#Sauf que, nous on ne cherche pas le nombre de cluster optimal de cette façon, on préfère le faire de manière géographique"
   ]
  },
  {
   "cell_type": "code",
   "execution_count": null,
   "metadata": {},
   "outputs": [],
   "source": [
    "from sklearn.cluster import DBSCAN\n",
    "kms_per_radian = 6371 \n",
    "epsilon = 0.05/kms_per_radian \n",
    "db2 = DBSCAN(eps = epsilon, min_samples=3).fit_predict(X)\n",
    "plt.scatter(gdf['lat'],gdf['lon'],c = db2);"
   ]
  }
 ],
 "metadata": {
  "kernelspec": {
   "display_name": "Python 3",
   "language": "python",
   "name": "python3"
  },
  "language_info": {
   "codemirror_mode": {
    "name": "ipython",
    "version": 3
   },
   "file_extension": ".py",
   "mimetype": "text/x-python",
   "name": "python",
   "nbconvert_exporter": "python",
   "pygments_lexer": "ipython3",
   "version": "3.7.4"
  }
 },
 "nbformat": 4,
 "nbformat_minor": 2
}
