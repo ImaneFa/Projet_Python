{
 "cells": [
  {
   "cell_type": "markdown",
   "metadata": {},
   "source": [
    "# Projet Python 2020 : Un GPS personnalisé pour les cyclistes"
   ]
  },
  {
   "cell_type": "markdown",
   "metadata": {},
   "source": [
    "## Introduction : "
   ]
  },
  {
   "cell_type": "markdown",
   "metadata": {},
   "source": [
    "Petit teaser de notre super chouette sujet"
   ]
  },
  {
   "cell_type": "markdown",
   "metadata": {},
   "source": [
    "## Les importations : "
   ]
  },
  {
   "cell_type": "code",
   "execution_count": null,
   "metadata": {},
   "outputs": [],
   "source": [
    "import geopandas as gpd\n",
    "import matplotlib.pyplot as plt\n",
    "import pandas as pd\n",
    "import numpy as np\n",
    "import folium\n",
    "from folium.plugins import MarkerCluster\n",
    "import os\n",
    "import time\n",
    "import datetime"
   ]
  },
  {
   "cell_type": "code",
   "execution_count": 6,
   "metadata": {},
   "outputs": [],
   "source": [
    "import pyroutelib3\n",
    "from pyroutelib3 import Router\n",
    "import requests, json\n",
    "import urllib.parse\n",
    "import tempfile\n",
    "import zipfile"
   ]
  },
  {
   "cell_type": "code",
   "execution_count": 7,
   "metadata": {},
   "outputs": [],
   "source": [
    "import tkinter as tk\n",
    "from tkinter import simpledialog\n",
    "from tkinter import messagebox\n",
    "from sklearn.cluster import DBSCAN\n",
    "from sklearn.neighbors import NearestNeighbors"
   ]
  },
  {
   "cell_type": "code",
   "execution_count": null,
   "metadata": {},
   "outputs": [],
   "source": []
  },
  {
   "cell_type": "code",
   "execution_count": null,
   "metadata": {},
   "outputs": [],
   "source": [
    "departements = gpd.read_file('https://www.data.gouv.fr/fr/datasets/r/ec305e78-f231-4a77-b32c-1e0c4c67615e')\n",
    "dpt = departements[departements['code_departement'].isin(['75', '77', '78', '91', '92', '93', '94', '95' ])]"
   ]
  },
  {
   "cell_type": "markdown",
   "metadata": {},
   "source": [
    "## I] Visualisation des données"
   ]
  },
  {
   "cell_type": "markdown",
   "metadata": {},
   "source": [
    "### 1) Les pistes (Romane)"
   ]
  },
  {
   "cell_type": "markdown",
   "metadata": {},
   "source": [
    "### 2) Les vélos en libre-service (Imane)"
   ]
  },
  {
   "cell_type": "code",
   "execution_count": 8,
   "metadata": {},
   "outputs": [
    {
     "data": {
      "text/html": [
       "<div>\n",
       "<style scoped>\n",
       "    .dataframe tbody tr th:only-of-type {\n",
       "        vertical-align: middle;\n",
       "    }\n",
       "\n",
       "    .dataframe tbody tr th {\n",
       "        vertical-align: top;\n",
       "    }\n",
       "\n",
       "    .dataframe thead th {\n",
       "        text-align: right;\n",
       "    }\n",
       "</style>\n",
       "<table border=\"1\" class=\"dataframe\">\n",
       "  <thead>\n",
       "    <tr style=\"text-align: right;\">\n",
       "      <th></th>\n",
       "      <th>insee</th>\n",
       "      <th>nom</th>\n",
       "      <th>wikipedia</th>\n",
       "      <th>surf_ha</th>\n",
       "      <th>geometry</th>\n",
       "    </tr>\n",
       "  </thead>\n",
       "  <tbody>\n",
       "    <tr>\n",
       "      <td>0</td>\n",
       "      <td>97223</td>\n",
       "      <td>Saint-Esprit</td>\n",
       "      <td>fr:Saint-Esprit (Martinique)</td>\n",
       "      <td>2318</td>\n",
       "      <td>POLYGON ((-60.93595 14.58812, -60.93218 14.585...</td>\n",
       "    </tr>\n",
       "    <tr>\n",
       "      <td>1</td>\n",
       "      <td>97233</td>\n",
       "      <td>Le Morne-Vert</td>\n",
       "      <td>fr:Le Morne-Vert</td>\n",
       "      <td>1325</td>\n",
       "      <td>POLYGON ((-61.12165 14.71928, -61.11852 14.716...</td>\n",
       "    </tr>\n",
       "    <tr>\n",
       "      <td>2</td>\n",
       "      <td>97208</td>\n",
       "      <td>Fonds-Saint-Denis</td>\n",
       "      <td>fr:Fonds-Saint-Denis</td>\n",
       "      <td>2374</td>\n",
       "      <td>POLYGON ((-61.13355 14.74657, -61.13066 14.748...</td>\n",
       "    </tr>\n",
       "    <tr>\n",
       "      <td>3</td>\n",
       "      <td>97224</td>\n",
       "      <td>Saint-Joseph</td>\n",
       "      <td>fr:Saint-Joseph (Martinique)</td>\n",
       "      <td>4324</td>\n",
       "      <td>POLYGON ((-61.08459 14.72510, -61.08430 14.722...</td>\n",
       "    </tr>\n",
       "    <tr>\n",
       "      <td>4</td>\n",
       "      <td>97212</td>\n",
       "      <td>Gros-Morne</td>\n",
       "      <td>fr:Gros-Morne</td>\n",
       "      <td>4601</td>\n",
       "      <td>POLYGON ((-61.08459 14.72510, -61.08061 14.725...</td>\n",
       "    </tr>\n",
       "  </tbody>\n",
       "</table>\n",
       "</div>"
      ],
      "text/plain": [
       "   insee                nom                     wikipedia  surf_ha  \\\n",
       "0  97223       Saint-Esprit  fr:Saint-Esprit (Martinique)     2318   \n",
       "1  97233      Le Morne-Vert              fr:Le Morne-Vert     1325   \n",
       "2  97208  Fonds-Saint-Denis          fr:Fonds-Saint-Denis     2374   \n",
       "3  97224       Saint-Joseph  fr:Saint-Joseph (Martinique)     4324   \n",
       "4  97212         Gros-Morne                 fr:Gros-Morne     4601   \n",
       "\n",
       "                                            geometry  \n",
       "0  POLYGON ((-60.93595 14.58812, -60.93218 14.585...  \n",
       "1  POLYGON ((-61.12165 14.71928, -61.11852 14.716...  \n",
       "2  POLYGON ((-61.13355 14.74657, -61.13066 14.748...  \n",
       "3  POLYGON ((-61.08459 14.72510, -61.08430 14.722...  \n",
       "4  POLYGON ((-61.08459 14.72510, -61.08061 14.725...  "
      ]
     },
     "execution_count": 8,
     "metadata": {},
     "output_type": "execute_result"
    }
   ],
   "source": [
    "temporary_location = tempfile.gettempdir()\n",
    "def download_unzip(url, dirname = tempfile.gettempdir(), destname = \"borders\"):\n",
    "  myfile = requests.get(url)\n",
    "  open(dirname + '/' + destname + '.zip', 'wb').write(myfile.content)\n",
    "  with zipfile.ZipFile(dirname + '/' + destname + '.zip', 'r') as zip_ref:\n",
    "      zip_ref.extractall(dirname + '/' + destname)\n",
    "\n",
    "download_unzip('https://www.data.gouv.fr/fr/datasets/r/07b7c9a2-d1e2-4da6-9f20-01a7b72d4b12')\n",
    "communes_borders = gpd.read_file(temporary_location + \"/borders/communes-20190101.json\")\n",
    "communes_borders.head()"
   ]
  },
  {
   "cell_type": "markdown",
   "metadata": {},
   "source": [
    "#### Velib - disponibilité en temps réel\n",
    "\n",
    "Données disponibles au lien suivant : \n",
    "https://smartregionidf.opendatasoft.com/explore/dataset/velib-disponibilite-en-temps-reel/export/?disjunctive.name&disjunctive.is_installed&disjunctive.is_renting&disjunctive.is_returning&disjunctive.nom_arrondissement_communes"
   ]
  },
  {
   "cell_type": "markdown",
   "metadata": {},
   "source": [
    "#### Cristolib et Vélo2 en libre-service à Créteil\n",
    "\n",
    "Données disponibles aux liens suivants : \n",
    "- https://smartregionidf.opendatasoft.com/explore/dataset/cristolib_-_velos_en_libre-service_a_creteil/information/\n",
    "- https://smartregionidf.opendatasoft.com/explore/dataset/jcdecaux-bike-stations-data/information/\n"
   ]
  },
  {
   "cell_type": "code",
   "execution_count": 9,
   "metadata": {},
   "outputs": [],
   "source": [
    "velib = gpd.read_file(\"https://smartregionidf.opendatasoft.com/explore/dataset/velib-disponibilite-en-temps-reel/download/?format=geojson&timezone=Europe/Berlin&lang=fr\")"
   ]
  },
  {
   "cell_type": "code",
   "execution_count": 10,
   "metadata": {},
   "outputs": [],
   "source": [
    "velos2 = gpd.read_file('https://smartregionidf.opendatasoft.com/explore/dataset/jcdecaux-bike-stations-data/download/?format=geojson&timezone=Europe/Berlin&lang=fr')\n",
    "cristolib = gpd.read_file('https://smartregionidf.opendatasoft.com/explore/dataset/cristolib_-_velos_en_libre-service_a_creteil/download/?format=geojson&timezone=Europe/Berlin&lang=fr')"
   ]
  },
  {
   "cell_type": "code",
   "execution_count": 11,
   "metadata": {},
   "outputs": [],
   "source": [
    "veligo = gpd.read_file('https://smartregionidf.opendatasoft.com/explore/dataset/points-de-contact-veligo-location/download/?format=geojson&timezone=Europe/Berlin&lang=fr')"
   ]
  },
  {
   "cell_type": "markdown",
   "metadata": {},
   "source": [
    "#### Veligo\n",
    "\n",
    "Données disponibles au lien suivant : https://smartregionidf.opendatasoft.com/explore/dataset/points-de-contact-veligo-location/information/"
   ]
  },
  {
   "cell_type": "markdown",
   "metadata": {},
   "source": [
    "#### VélO2 et Cristolib et Vélo2 en libre-service dans le 95\n",
    "\n",
    "Données disponibles aux liens suivants : \n",
    "- https://smartregionidf.opendatasoft.com/explore/dataset/jcdecaux-bike-stations-data/information/\n",
    "- https://smartregionidf.opendatasoft.com/explore/dataset/velo2_-_cergy-pontoise_et_communes_limitrophes/information/"
   ]
  },
  {
   "cell_type": "code",
   "execution_count": 12,
   "metadata": {},
   "outputs": [],
   "source": [
    "cristolib_95 = gpd.read_file('https://smartregionidf.opendatasoft.com/explore/dataset/jcdecaux-bike-stations-data/download/?format=geojson&timezone=Europe/Berlin&lang=fr')\n",
    "velos2_95 = gpd.read_file('https://smartregionidf.opendatasoft.com/explore/dataset/velo2_-_cergy-pontoise_et_communes_limitrophes/download/?format=geojson&timezone=Europe/Berlin&lang=fr')"
   ]
  },
  {
   "cell_type": "code",
   "execution_count": 13,
   "metadata": {},
   "outputs": [
    {
     "data": {
      "text/html": [
       "<div>\n",
       "<style scoped>\n",
       "    .dataframe tbody tr th:only-of-type {\n",
       "        vertical-align: middle;\n",
       "    }\n",
       "\n",
       "    .dataframe tbody tr th {\n",
       "        vertical-align: top;\n",
       "    }\n",
       "\n",
       "    .dataframe thead th {\n",
       "        text-align: right;\n",
       "    }\n",
       "</style>\n",
       "<table border=\"1\" class=\"dataframe\">\n",
       "  <thead>\n",
       "    <tr style=\"text-align: right;\">\n",
       "      <th></th>\n",
       "      <th>name</th>\n",
       "      <th>number</th>\n",
       "      <th>longitude</th>\n",
       "      <th>address</th>\n",
       "      <th>latitude</th>\n",
       "      <th>geometry</th>\n",
       "    </tr>\n",
       "  </thead>\n",
       "  <tbody>\n",
       "    <tr>\n",
       "      <td>0</td>\n",
       "      <td>09 - EUROPARC</td>\n",
       "      <td>9</td>\n",
       "      <td>2.471315</td>\n",
       "      <td>ALLEE FERNAND POUILLON</td>\n",
       "      <td>48.766038</td>\n",
       "      <td>POINT (2.47131 48.76604)</td>\n",
       "    </tr>\n",
       "    <tr>\n",
       "      <td>1</td>\n",
       "      <td>08 - ROND POINT HOTEL DE VILLE</td>\n",
       "      <td>8</td>\n",
       "      <td>2.455378</td>\n",
       "      <td>Avenue de la France Libre</td>\n",
       "      <td>48.777352</td>\n",
       "      <td>POINT (2.45538 48.77735)</td>\n",
       "    </tr>\n",
       "    <tr>\n",
       "      <td>2</td>\n",
       "      <td>04 - UNIVERSITE - MAIL DES MECHES</td>\n",
       "      <td>4</td>\n",
       "      <td>2.446249</td>\n",
       "      <td>Avenue du Général de Gaulle</td>\n",
       "      <td>48.788111</td>\n",
       "      <td>POINT (2.44625 48.78811)</td>\n",
       "    </tr>\n",
       "    <tr>\n",
       "      <td>3</td>\n",
       "      <td>02 - HOPITAL INTERCOMMUNAL (CHIC)</td>\n",
       "      <td>2</td>\n",
       "      <td>2.463706</td>\n",
       "      <td>AVENUE DE VERDUN</td>\n",
       "      <td>48.796174</td>\n",
       "      <td>POINT (2.46371 48.79617)</td>\n",
       "    </tr>\n",
       "    <tr>\n",
       "      <td>4</td>\n",
       "      <td>01 - LATTRE DE TASSIGNY</td>\n",
       "      <td>1</td>\n",
       "      <td>2.453876</td>\n",
       "      <td>AVENUE DU MARECHAL DE LATTRE DE TASSIGNY</td>\n",
       "      <td>48.798835</td>\n",
       "      <td>POINT (2.45388 48.79884)</td>\n",
       "    </tr>\n",
       "    <tr>\n",
       "      <td>5</td>\n",
       "      <td>06 - AVENUE DE LA BRECHE</td>\n",
       "      <td>6</td>\n",
       "      <td>2.454576</td>\n",
       "      <td>AVENUE DE LA BRECHE</td>\n",
       "      <td>48.783501</td>\n",
       "      <td>POINT (2.45458 48.78350)</td>\n",
       "    </tr>\n",
       "    <tr>\n",
       "      <td>6</td>\n",
       "      <td>03 - RUE DU GENERAL LECLERC - CENTRE ANCIEN</td>\n",
       "      <td>3</td>\n",
       "      <td>2.464890</td>\n",
       "      <td>Allée de la porte de Brie</td>\n",
       "      <td>48.790789</td>\n",
       "      <td>POINT (2.46489 48.79079)</td>\n",
       "    </tr>\n",
       "    <tr>\n",
       "      <td>7</td>\n",
       "      <td>05 - GENERAL LECLERC / BARRAGE</td>\n",
       "      <td>5</td>\n",
       "      <td>2.468567</td>\n",
       "      <td>144 RUE DU GENERAL LECLERC</td>\n",
       "      <td>48.786839</td>\n",
       "      <td>POINT (2.46857 48.78684)</td>\n",
       "    </tr>\n",
       "    <tr>\n",
       "      <td>8</td>\n",
       "      <td>07- AVENUE DU DOCTEUR PAUL CASALIS</td>\n",
       "      <td>7</td>\n",
       "      <td>2.469692</td>\n",
       "      <td>Avenue du docteur Paul Casalis</td>\n",
       "      <td>48.780214</td>\n",
       "      <td>POINT (2.46969 48.78021)</td>\n",
       "    </tr>\n",
       "    <tr>\n",
       "      <td>9</td>\n",
       "      <td>10 - MAGELLAN</td>\n",
       "      <td>10</td>\n",
       "      <td>2.456665</td>\n",
       "      <td>RUE MAGELLAN</td>\n",
       "      <td>48.768956</td>\n",
       "      <td>POINT (2.45666 48.76896)</td>\n",
       "    </tr>\n",
       "  </tbody>\n",
       "</table>\n",
       "</div>"
      ],
      "text/plain": [
       "                                          name  number  longitude  \\\n",
       "0                                09 - EUROPARC       9   2.471315   \n",
       "1               08 - ROND POINT HOTEL DE VILLE       8   2.455378   \n",
       "2            04 - UNIVERSITE - MAIL DES MECHES       4   2.446249   \n",
       "3            02 - HOPITAL INTERCOMMUNAL (CHIC)       2   2.463706   \n",
       "4                      01 - LATTRE DE TASSIGNY       1   2.453876   \n",
       "5                     06 - AVENUE DE LA BRECHE       6   2.454576   \n",
       "6  03 - RUE DU GENERAL LECLERC - CENTRE ANCIEN       3   2.464890   \n",
       "7               05 - GENERAL LECLERC / BARRAGE       5   2.468567   \n",
       "8           07- AVENUE DU DOCTEUR PAUL CASALIS       7   2.469692   \n",
       "9                                10 - MAGELLAN      10   2.456665   \n",
       "\n",
       "                                    address   latitude  \\\n",
       "0                    ALLEE FERNAND POUILLON  48.766038   \n",
       "1                 Avenue de la France Libre  48.777352   \n",
       "2               Avenue du Général de Gaulle  48.788111   \n",
       "3                          AVENUE DE VERDUN  48.796174   \n",
       "4  AVENUE DU MARECHAL DE LATTRE DE TASSIGNY  48.798835   \n",
       "5                       AVENUE DE LA BRECHE  48.783501   \n",
       "6                 Allée de la porte de Brie  48.790789   \n",
       "7                144 RUE DU GENERAL LECLERC  48.786839   \n",
       "8            Avenue du docteur Paul Casalis  48.780214   \n",
       "9                              RUE MAGELLAN  48.768956   \n",
       "\n",
       "                   geometry  \n",
       "0  POINT (2.47131 48.76604)  \n",
       "1  POINT (2.45538 48.77735)  \n",
       "2  POINT (2.44625 48.78811)  \n",
       "3  POINT (2.46371 48.79617)  \n",
       "4  POINT (2.45388 48.79884)  \n",
       "5  POINT (2.45458 48.78350)  \n",
       "6  POINT (2.46489 48.79079)  \n",
       "7  POINT (2.46857 48.78684)  \n",
       "8  POINT (2.46969 48.78021)  \n",
       "9  POINT (2.45666 48.76896)  "
      ]
     },
     "execution_count": 13,
     "metadata": {},
     "output_type": "execute_result"
    }
   ],
   "source": [
    "cristolib.head(10)"
   ]
  },
  {
   "cell_type": "code",
   "execution_count": 14,
   "metadata": {},
   "outputs": [
    {
     "data": {
      "text/plain": [
       "(10, 6)"
      ]
     },
     "execution_count": 14,
     "metadata": {},
     "output_type": "execute_result"
    }
   ],
   "source": [
    "cristolib.shape"
   ]
  },
  {
   "cell_type": "code",
   "execution_count": 15,
   "metadata": {},
   "outputs": [
    {
     "data": {
      "text/html": [
       "<div>\n",
       "<style scoped>\n",
       "    .dataframe tbody tr th:only-of-type {\n",
       "        vertical-align: middle;\n",
       "    }\n",
       "\n",
       "    .dataframe tbody tr th {\n",
       "        vertical-align: top;\n",
       "    }\n",
       "\n",
       "    .dataframe thead th {\n",
       "        text-align: right;\n",
       "    }\n",
       "</style>\n",
       "<table border=\"1\" class=\"dataframe\">\n",
       "  <thead>\n",
       "    <tr style=\"text-align: right;\">\n",
       "      <th></th>\n",
       "      <th>status</th>\n",
       "      <th>contract_name</th>\n",
       "      <th>name</th>\n",
       "      <th>bonus</th>\n",
       "      <th>bike_stands</th>\n",
       "      <th>number</th>\n",
       "      <th>last_update</th>\n",
       "      <th>available_bike_stands</th>\n",
       "      <th>banking</th>\n",
       "      <th>available_bikes</th>\n",
       "      <th>address</th>\n",
       "      <th>geometry</th>\n",
       "    </tr>\n",
       "  </thead>\n",
       "  <tbody>\n",
       "    <tr>\n",
       "      <td>0</td>\n",
       "      <td>OPEN</td>\n",
       "      <td>creteil</td>\n",
       "      <td>08 - ROND POINT HOTEL DE VILLE</td>\n",
       "      <td>False</td>\n",
       "      <td>34</td>\n",
       "      <td>8</td>\n",
       "      <td>2020-12-04T03:11:15</td>\n",
       "      <td>19</td>\n",
       "      <td>True</td>\n",
       "      <td>15</td>\n",
       "      <td>Avenue de la France Libre</td>\n",
       "      <td>POINT (2.45538 48.77735)</td>\n",
       "    </tr>\n",
       "    <tr>\n",
       "      <td>1</td>\n",
       "      <td>OPEN</td>\n",
       "      <td>cergy-pontoise</td>\n",
       "      <td>50019 - CER19 - RUE DES LILAS</td>\n",
       "      <td>False</td>\n",
       "      <td>16</td>\n",
       "      <td>50019</td>\n",
       "      <td>2020-12-10T16:27:38</td>\n",
       "      <td>7</td>\n",
       "      <td>False</td>\n",
       "      <td>9</td>\n",
       "      <td>RUE DES LILAS ANGLE BOULEVARD DU PORT - 95000 ...</td>\n",
       "      <td>POINT (2.06760 49.03462)</td>\n",
       "    </tr>\n",
       "    <tr>\n",
       "      <td>2</td>\n",
       "      <td>OPEN</td>\n",
       "      <td>cergy-pontoise</td>\n",
       "      <td>50002 - CER02 - AVENUE DU HAZAY</td>\n",
       "      <td>False</td>\n",
       "      <td>24</td>\n",
       "      <td>50002</td>\n",
       "      <td>2020-12-10T16:23:50</td>\n",
       "      <td>16</td>\n",
       "      <td>False</td>\n",
       "      <td>8</td>\n",
       "      <td>Avenue du Hazay angle rue de la Destinée - 950...</td>\n",
       "      <td>POINT (2.01362 49.04687)</td>\n",
       "    </tr>\n",
       "    <tr>\n",
       "      <td>3</td>\n",
       "      <td>OPEN</td>\n",
       "      <td>cergy-pontoise</td>\n",
       "      <td>50017 - CER17 - CERGY VILLAGE CENTRE</td>\n",
       "      <td>False</td>\n",
       "      <td>14</td>\n",
       "      <td>50017</td>\n",
       "      <td>2020-12-10T16:26:24</td>\n",
       "      <td>10</td>\n",
       "      <td>False</td>\n",
       "      <td>4</td>\n",
       "      <td>RUE NATIONALE ANGLE RUE LEVÈQUE - 95000 CERGY</td>\n",
       "      <td>POINT (2.06192 49.03551)</td>\n",
       "    </tr>\n",
       "    <tr>\n",
       "      <td>4</td>\n",
       "      <td>OPEN</td>\n",
       "      <td>cergy-pontoise</td>\n",
       "      <td>53101 - SOA01 - PLACE CARNOT (CB)</td>\n",
       "      <td>False</td>\n",
       "      <td>19</td>\n",
       "      <td>53101</td>\n",
       "      <td>2020-12-10T16:27:43</td>\n",
       "      <td>14</td>\n",
       "      <td>True</td>\n",
       "      <td>5</td>\n",
       "      <td>Place Carnot côté quai de l'Ecluse ou halage -...</td>\n",
       "      <td>POINT (2.10304 49.04778)</td>\n",
       "    </tr>\n",
       "    <tr>\n",
       "      <td>5</td>\n",
       "      <td>OPEN</td>\n",
       "      <td>cergy-pontoise</td>\n",
       "      <td>50013 - CER13 - ROND-POINT DES RAIES</td>\n",
       "      <td>False</td>\n",
       "      <td>20</td>\n",
       "      <td>50013</td>\n",
       "      <td>2020-12-10T16:26:09</td>\n",
       "      <td>12</td>\n",
       "      <td>False</td>\n",
       "      <td>8</td>\n",
       "      <td>ALLÉE DU BELVÉDÈRE ANGLE ROND POINT DES RAIES ...</td>\n",
       "      <td>POINT (2.05346 49.04483)</td>\n",
       "    </tr>\n",
       "    <tr>\n",
       "      <td>6</td>\n",
       "      <td>OPEN</td>\n",
       "      <td>cergy-pontoise</td>\n",
       "      <td>50011 - CER11 - PLACE DE L'HOTEL DE VILLE (CB)</td>\n",
       "      <td>False</td>\n",
       "      <td>22</td>\n",
       "      <td>50011</td>\n",
       "      <td>2020-12-10T16:26:19</td>\n",
       "      <td>15</td>\n",
       "      <td>True</td>\n",
       "      <td>7</td>\n",
       "      <td>RUE DES GÉMEAUX - 95000 CERGY</td>\n",
       "      <td>POINT (2.03611 49.05160)</td>\n",
       "    </tr>\n",
       "    <tr>\n",
       "      <td>7</td>\n",
       "      <td>OPEN</td>\n",
       "      <td>cergy-pontoise</td>\n",
       "      <td>50101 - PÔLE GARE (CB)</td>\n",
       "      <td>False</td>\n",
       "      <td>19</td>\n",
       "      <td>50101</td>\n",
       "      <td>2020-12-10T16:26:26</td>\n",
       "      <td>5</td>\n",
       "      <td>True</td>\n",
       "      <td>14</td>\n",
       "      <td>CHEMIN DE CERGY DEVANT LA GARE - 95010 NEUVILLE</td>\n",
       "      <td>POINT (2.07895 49.01453)</td>\n",
       "    </tr>\n",
       "    <tr>\n",
       "      <td>8</td>\n",
       "      <td>OPEN</td>\n",
       "      <td>cergy-pontoise</td>\n",
       "      <td>53004 - PON04 - LA PALETTE</td>\n",
       "      <td>False</td>\n",
       "      <td>20</td>\n",
       "      <td>53004</td>\n",
       "      <td>2020-12-10T16:27:45</td>\n",
       "      <td>13</td>\n",
       "      <td>False</td>\n",
       "      <td>7</td>\n",
       "      <td>BD DE L'OISE ANGLE RUE DE LA PALETTE</td>\n",
       "      <td>POINT (2.08780 49.03214)</td>\n",
       "    </tr>\n",
       "    <tr>\n",
       "      <td>9</td>\n",
       "      <td>OPEN</td>\n",
       "      <td>cergy-pontoise</td>\n",
       "      <td>56103 - ERA03 - GARE D'ERAGNY (CB)</td>\n",
       "      <td>False</td>\n",
       "      <td>20</td>\n",
       "      <td>56103</td>\n",
       "      <td>2020-12-10T16:25:46</td>\n",
       "      <td>14</td>\n",
       "      <td>True</td>\n",
       "      <td>6</td>\n",
       "      <td>RUE DES BELLES HÂTES ANGLE BOULEVARD DES AVIAT...</td>\n",
       "      <td>POINT (2.09103 49.01806)</td>\n",
       "    </tr>\n",
       "  </tbody>\n",
       "</table>\n",
       "</div>"
      ],
      "text/plain": [
       "  status   contract_name                                            name  \\\n",
       "0   OPEN         creteil                  08 - ROND POINT HOTEL DE VILLE   \n",
       "1   OPEN  cergy-pontoise                   50019 - CER19 - RUE DES LILAS   \n",
       "2   OPEN  cergy-pontoise                 50002 - CER02 - AVENUE DU HAZAY   \n",
       "3   OPEN  cergy-pontoise            50017 - CER17 - CERGY VILLAGE CENTRE   \n",
       "4   OPEN  cergy-pontoise               53101 - SOA01 - PLACE CARNOT (CB)   \n",
       "5   OPEN  cergy-pontoise            50013 - CER13 - ROND-POINT DES RAIES   \n",
       "6   OPEN  cergy-pontoise  50011 - CER11 - PLACE DE L'HOTEL DE VILLE (CB)   \n",
       "7   OPEN  cergy-pontoise                          50101 - PÔLE GARE (CB)   \n",
       "8   OPEN  cergy-pontoise                      53004 - PON04 - LA PALETTE   \n",
       "9   OPEN  cergy-pontoise              56103 - ERA03 - GARE D'ERAGNY (CB)   \n",
       "\n",
       "   bonus  bike_stands  number          last_update  available_bike_stands  \\\n",
       "0  False           34       8  2020-12-04T03:11:15                     19   \n",
       "1  False           16   50019  2020-12-10T16:27:38                      7   \n",
       "2  False           24   50002  2020-12-10T16:23:50                     16   \n",
       "3  False           14   50017  2020-12-10T16:26:24                     10   \n",
       "4  False           19   53101  2020-12-10T16:27:43                     14   \n",
       "5  False           20   50013  2020-12-10T16:26:09                     12   \n",
       "6  False           22   50011  2020-12-10T16:26:19                     15   \n",
       "7  False           19   50101  2020-12-10T16:26:26                      5   \n",
       "8  False           20   53004  2020-12-10T16:27:45                     13   \n",
       "9  False           20   56103  2020-12-10T16:25:46                     14   \n",
       "\n",
       "  banking  available_bikes                                            address  \\\n",
       "0    True               15                          Avenue de la France Libre   \n",
       "1   False                9  RUE DES LILAS ANGLE BOULEVARD DU PORT - 95000 ...   \n",
       "2   False                8  Avenue du Hazay angle rue de la Destinée - 950...   \n",
       "3   False                4      RUE NATIONALE ANGLE RUE LEVÈQUE - 95000 CERGY   \n",
       "4    True                5  Place Carnot côté quai de l'Ecluse ou halage -...   \n",
       "5   False                8  ALLÉE DU BELVÉDÈRE ANGLE ROND POINT DES RAIES ...   \n",
       "6    True                7                      RUE DES GÉMEAUX - 95000 CERGY   \n",
       "7    True               14    CHEMIN DE CERGY DEVANT LA GARE - 95010 NEUVILLE   \n",
       "8   False                7               BD DE L'OISE ANGLE RUE DE LA PALETTE   \n",
       "9    True                6  RUE DES BELLES HÂTES ANGLE BOULEVARD DES AVIAT...   \n",
       "\n",
       "                   geometry  \n",
       "0  POINT (2.45538 48.77735)  \n",
       "1  POINT (2.06760 49.03462)  \n",
       "2  POINT (2.01362 49.04687)  \n",
       "3  POINT (2.06192 49.03551)  \n",
       "4  POINT (2.10304 49.04778)  \n",
       "5  POINT (2.05346 49.04483)  \n",
       "6  POINT (2.03611 49.05160)  \n",
       "7  POINT (2.07895 49.01453)  \n",
       "8  POINT (2.08780 49.03214)  \n",
       "9  POINT (2.09103 49.01806)  "
      ]
     },
     "execution_count": 15,
     "metadata": {},
     "output_type": "execute_result"
    }
   ],
   "source": [
    "velos2.head(10)"
   ]
  },
  {
   "cell_type": "code",
   "execution_count": 16,
   "metadata": {},
   "outputs": [
    {
     "data": {
      "text/plain": [
       "(53, 12)"
      ]
     },
     "execution_count": 16,
     "metadata": {},
     "output_type": "execute_result"
    }
   ],
   "source": [
    "velos2.shape"
   ]
  },
  {
   "cell_type": "markdown",
   "metadata": {},
   "source": [
    "#### Fusion des bases de données Vélib, Veligo, Cristolib, Velos2"
   ]
  },
  {
   "cell_type": "code",
   "execution_count": 17,
   "metadata": {},
   "outputs": [],
   "source": [
    "#Ajout d'une colonne correspondant au type du vélo (vélib, véligo, cristolib ou vélos2)\n",
    "\n",
    "velib[\"type\"]=[\"velib\" for i in range(velib.shape[0])]\n",
    "veligo[\"type\"]=[\"veligo\" for i in range(veligo.shape[0])]\n",
    "velos2[\"type\"]=[\"velos2\" for i in range(velos2.shape[0])]\n",
    "cristolib[\"type\"]=[\"cristolib\" for i in range(cristolib.shape[0])]\n",
    "velos2_95[\"type\"]=[\"velos2_95\" for i in range(velos2_95.shape[0])]\n",
    "cristolib_95[\"type\"]=[\"cristolib_95\" for i in range(cristolib_95.shape[0])]"
   ]
  },
  {
   "cell_type": "code",
   "execution_count": 18,
   "metadata": {},
   "outputs": [],
   "source": [
    "# Ajout d'une colonne correspondant au type de vélo emprunté (velib, veligo, cristolib ou velos2)\n",
    "\n",
    "velib[\"type\"]=[\"velib\" for i in range(velib.shape[0])]\n",
    "veligo[\"type\"]=[\"veligo\" for i in range(veligo.shape[0])]\n",
    "velos2[\"type\"]=[\"velos2\" for i in range(velos2.shape[0])]\n",
    "cristolib[\"type\"]=[\"cristolib\" for i in range(cristolib.shape[0])]\n",
    "velos2_95[\"type\"]=[\"velos2\" for i in range(velos2_95.shape[0])]\n",
    "cristolib_95[\"type\"]=[\"cristolib\" for i in range(cristolib_95.shape[0])]\n",
    "\n",
    "# Ajout d'une colonne disponibilité vélos pour ceux qui n'en ont pas\n",
    "\n",
    "velos2_95[\"numbikesavailable\"]=[\"N\" for i in range(velos2_95.shape[0])]\n",
    "cristolib[\"numbikesavailable\"]=[\"N\" for i in range(cristolib.shape[0])]\n",
    "veligo[\"numbikesavailable\"]=[\"N\" for i in range(veligo.shape[0])]\n",
    "\n",
    "# Reset les index\n",
    "\n",
    "#velos2.set_index(['name', 'geometry', \"type\", \"available_bikes\"])"
   ]
  },
  {
   "cell_type": "code",
   "execution_count": 19,
   "metadata": {},
   "outputs": [],
   "source": [
    "# Selectionner et renommer les colonnes de chaque base\n",
    "\n",
    "velib = velib[[\"name\",\"geometry\",\"type\", \"numbikesavailable\"]]\n",
    "\n",
    "veligo = veligo [[\"nom\",\"geometry\",\"type\",\"numbikesavailable\"]]\n",
    "veligo.columns = ['name','geometry',\"type\",\"numbikesavailable\"]\n"
   ]
  },
  {
   "cell_type": "code",
   "execution_count": 20,
   "metadata": {},
   "outputs": [],
   "source": [
    "velos2 = velos2 [[\"name\", \"geometry\",\"type\",\"available_bikes\"]]\n",
    "velos2.columns = ['name','geometry',\"type\",\"numbikesavailable\"]\n",
    "\n",
    "cristolib = cristolib [[\"name\", \"geometry\",\"type\",\"numbikesavailable\"]]\n",
    "\n",
    "velos2_95 = velos2 [[\"name\", \"geometry\", \"type\",\"numbikesavailable\"]]\n",
    "\n",
    "cristolib_95 = cristolib_95 [[\"name\", \"geometry\",\"type\",\"available_bikes\"]]\n",
    "cristolib_95.columns = ['name','geometry',\"type\",\"numbikesavailable\"]"
   ]
  },
  {
   "cell_type": "code",
   "execution_count": 21,
   "metadata": {},
   "outputs": [],
   "source": [
    "velos = pd.concat([veligo, velib, velos2, cristolib, velos2_95, cristolib_95], ignore_index=True)"
   ]
  },
  {
   "cell_type": "code",
   "execution_count": 22,
   "metadata": {},
   "outputs": [
    {
     "data": {
      "text/plain": [
       "(2646, 4)"
      ]
     },
     "execution_count": 22,
     "metadata": {},
     "output_type": "execute_result"
    }
   ],
   "source": [
    "velos.shape"
   ]
  },
  {
   "cell_type": "code",
   "execution_count": 23,
   "metadata": {},
   "outputs": [
    {
     "data": {
      "text/plain": [
       "True"
      ]
     },
     "execution_count": 23,
     "metadata": {},
     "output_type": "execute_result"
    }
   ],
   "source": [
    "velos.shape[0] ==  veligo.shape[0] + velib.shape[0] + velos2.shape[0] + cristolib.shape[0] + velos2_95.shape[0] + cristolib_95.shape[0]"
   ]
  },
  {
   "cell_type": "code",
   "execution_count": 24,
   "metadata": {},
   "outputs": [
    {
     "data": {
      "text/html": [
       "<div>\n",
       "<style scoped>\n",
       "    .dataframe tbody tr th:only-of-type {\n",
       "        vertical-align: middle;\n",
       "    }\n",
       "\n",
       "    .dataframe tbody tr th {\n",
       "        vertical-align: top;\n",
       "    }\n",
       "\n",
       "    .dataframe thead th {\n",
       "        text-align: right;\n",
       "    }\n",
       "</style>\n",
       "<table border=\"1\" class=\"dataframe\">\n",
       "  <thead>\n",
       "    <tr style=\"text-align: right;\">\n",
       "      <th></th>\n",
       "      <th>name</th>\n",
       "      <th>geometry</th>\n",
       "      <th>type</th>\n",
       "      <th>numbikesavailable</th>\n",
       "    </tr>\n",
       "  </thead>\n",
       "  <tbody>\n",
       "    <tr>\n",
       "      <td>0</td>\n",
       "      <td>ST MAUR DES FOSSES PDC</td>\n",
       "      <td>POINT (2.49129 48.80253)</td>\n",
       "      <td>veligo</td>\n",
       "      <td>N</td>\n",
       "    </tr>\n",
       "    <tr>\n",
       "      <td>1</td>\n",
       "      <td>BRY PPDC1</td>\n",
       "      <td>POINT (2.52455 48.82955)</td>\n",
       "      <td>veligo</td>\n",
       "      <td>N</td>\n",
       "    </tr>\n",
       "    <tr>\n",
       "      <td>2</td>\n",
       "      <td>CRETEIL PPDC1</td>\n",
       "      <td>POINT (2.45490 48.77790)</td>\n",
       "      <td>veligo</td>\n",
       "      <td>N</td>\n",
       "    </tr>\n",
       "    <tr>\n",
       "      <td>3</td>\n",
       "      <td>FONTENAY SOUS BOIS PDC1</td>\n",
       "      <td>POINT (2.47531 48.84936)</td>\n",
       "      <td>veligo</td>\n",
       "      <td>N</td>\n",
       "    </tr>\n",
       "    <tr>\n",
       "      <td>4</td>\n",
       "      <td>IVRY PDC1</td>\n",
       "      <td>POINT (2.40150 48.80670)</td>\n",
       "      <td>veligo</td>\n",
       "      <td>N</td>\n",
       "    </tr>\n",
       "    <tr>\n",
       "      <td>...</td>\n",
       "      <td>...</td>\n",
       "      <td>...</td>\n",
       "      <td>...</td>\n",
       "      <td>...</td>\n",
       "    </tr>\n",
       "    <tr>\n",
       "      <td>2641</td>\n",
       "      <td>56401 - COU01 - LA LOUVIERE (CB)</td>\n",
       "      <td>POINT (2.00251 49.04522)</td>\n",
       "      <td>cristolib</td>\n",
       "      <td>6</td>\n",
       "    </tr>\n",
       "    <tr>\n",
       "      <td>2642</td>\n",
       "      <td>56101 - ERA01 - LA DANNE</td>\n",
       "      <td>POINT (2.10327 49.02421)</td>\n",
       "      <td>cristolib</td>\n",
       "      <td>3</td>\n",
       "    </tr>\n",
       "    <tr>\n",
       "      <td>2643</td>\n",
       "      <td>50014 - CER14 - AVENUE DU NORD</td>\n",
       "      <td>POINT (2.06040 49.04322)</td>\n",
       "      <td>cristolib</td>\n",
       "      <td>8</td>\n",
       "    </tr>\n",
       "    <tr>\n",
       "      <td>2644</td>\n",
       "      <td>50005 - CER05 - MOULIN A VENT</td>\n",
       "      <td>POINT (2.01708 49.04940)</td>\n",
       "      <td>cristolib</td>\n",
       "      <td>3</td>\n",
       "    </tr>\n",
       "    <tr>\n",
       "      <td>2645</td>\n",
       "      <td>50008 - CER08 - AXE MAJEUR (CB)</td>\n",
       "      <td>POINT (2.03655 49.04409)</td>\n",
       "      <td>cristolib</td>\n",
       "      <td>9</td>\n",
       "    </tr>\n",
       "  </tbody>\n",
       "</table>\n",
       "<p>2646 rows × 4 columns</p>\n",
       "</div>"
      ],
      "text/plain": [
       "                                  name                  geometry       type  \\\n",
       "0               ST MAUR DES FOSSES PDC  POINT (2.49129 48.80253)     veligo   \n",
       "1                            BRY PPDC1  POINT (2.52455 48.82955)     veligo   \n",
       "2                        CRETEIL PPDC1  POINT (2.45490 48.77790)     veligo   \n",
       "3              FONTENAY SOUS BOIS PDC1  POINT (2.47531 48.84936)     veligo   \n",
       "4                            IVRY PDC1  POINT (2.40150 48.80670)     veligo   \n",
       "...                                ...                       ...        ...   \n",
       "2641  56401 - COU01 - LA LOUVIERE (CB)  POINT (2.00251 49.04522)  cristolib   \n",
       "2642          56101 - ERA01 - LA DANNE  POINT (2.10327 49.02421)  cristolib   \n",
       "2643    50014 - CER14 - AVENUE DU NORD  POINT (2.06040 49.04322)  cristolib   \n",
       "2644     50005 - CER05 - MOULIN A VENT  POINT (2.01708 49.04940)  cristolib   \n",
       "2645   50008 - CER08 - AXE MAJEUR (CB)  POINT (2.03655 49.04409)  cristolib   \n",
       "\n",
       "     numbikesavailable  \n",
       "0                    N  \n",
       "1                    N  \n",
       "2                    N  \n",
       "3                    N  \n",
       "4                    N  \n",
       "...                ...  \n",
       "2641                 6  \n",
       "2642                 3  \n",
       "2643                 8  \n",
       "2644                 3  \n",
       "2645                 9  \n",
       "\n",
       "[2646 rows x 4 columns]"
      ]
     },
     "execution_count": 24,
     "metadata": {},
     "output_type": "execute_result"
    }
   ],
   "source": [
    "velos"
   ]
  },
  {
   "cell_type": "code",
   "execution_count": 25,
   "metadata": {},
   "outputs": [],
   "source": [
    "data_borders = communes_borders.set_index('insee')\n",
    "data_borders['dep'] = data_borders.index.str[:2]\n",
    "departements = gpd.read_file('https://www.data.gouv.fr/fr/datasets/r/ec305e78-f231-4a77-b32c-1e0c4c67615e')\n",
    "dpt = departements[departements['code_departement'].isin(['75', '77', '78', '91', '92', '93', '94', '95' ])]"
   ]
  },
  {
   "cell_type": "code",
   "execution_count": 26,
   "metadata": {},
   "outputs": [
    {
     "data": {
      "image/png": "[encoded data removed]",
      "text/plain": [
       "<Figure size 720x720 with 1 Axes>"
      ]
     },
     "metadata": {
      "needs_background": "light"
     },
     "output_type": "display_data"
    }
   ],
   "source": [
    "fig, ax = plt.subplots(figsize = (10,10))\n",
    "#data_borders.loc[data_borders['dep'].isin(['75','77', '78', '91','92','93','94', '95'])].plot(ax=ax, color='0.8', edgecolor='black')\n",
    "dpt.plot(ax=ax, color = 'white', edgecolor = 'black', alpha = 0.4)\n",
    "\n",
    "\n",
    "velos[velos[\"type\"]==\"veligo\"].plot(ax=ax, color='blue', markersize=2)\n",
    "velos[velos[\"type\"]==\"velib\"].plot(ax=ax, color='yellow', markersize=2)\n",
    "#velos[velos[\"type\"]==\"velos2\"].plot(ax=ax, color='green', markersize=2)\n",
    "velos[velos[\"type\"]==\"cristolib\"].plot(ax=ax, color='red', markersize=2)\n",
    "\n",
    "plt.show()"
   ]
  },
  {
   "cell_type": "code",
   "execution_count": 27,
   "metadata": {},
   "outputs": [
    {
     "data": {
      "text/html": [
       "<div style=\"width:100%;\"><div style=\"position:relative;width:100%;height:0;padding-bottom:60%;\"><span style=\"color:#565656\">Make this Notebook Trusted to load map: File -> Trust Notebook</span><iframe src=\"about:blank\" style=\"position:absolute;width:100%;height:100%;left:0;top:0;border:none !important;\" data-html=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 onload=\"this.contentDocument.open();this.contentDocument.write(atob(this.getAttribute('data-html')));this.contentDocument.close();\" allowfullscreen webkitallowfullscreen mozallowfullscreen></iframe></div></div>"
      ],
      "text/plain": [
       "<folium.folium.Map at 0x17f2a080f08>"
      ]
     },
     "execution_count": 27,
     "metadata": {},
     "output_type": "execute_result"
    }
   ],
   "source": [
    "centre = [48.8534 , 2.3488] #le centre de paris \n",
    "idf = folium.Map(location = centre, zoom_start = 11)\n",
    "idf"
   ]
  },
  {
   "cell_type": "markdown",
   "metadata": {},
   "source": [
    "### 3) Les accidents (Vinciane)"
   ]
  },
  {
   "cell_type": "code",
   "execution_count": null,
   "metadata": {},
   "outputs": [],
   "source": [
    "accident_velo = pd.read_csv('https://www.data.gouv.fr/fr/datasets/r/3d5f2317-5afd-4a9f-a9c5-bd4fe0113f39')\n",
    "accident_velo_idf = accident_velo[accident_velo['departement'].isin(['75','77','78','91','92','93','94','95'])]\n",
    "accident_velo_idf = accident_velo_idf[['identifiant accident','lat','lon','gravite accident']]\n",
    "accident_velo_idf.head(10)"
   ]
  },
  {
   "cell_type": "code",
   "execution_count": null,
   "metadata": {},
   "outputs": [],
   "source": [
    "#On transforme les coordonnées latitudes/longitudes en coordonnées lisibles par géopandas\n",
    "gdf = gpd.GeoDataFrame(accident_velo_idf, geometry=gpd.points_from_xy(accident_velo_idf.lon, accident_velo_idf.lat))\n",
    "gdf = gdf.cx[1.44:3.57,48.12:49.2] #Nombreuses coordonnées manquantes, et quelques valeurs aberrantes éliminées\n",
    "gdf  \n",
    "#Au total, il nous reste 3400 données sur les 18 000  "
   ]
  },
  {
   "cell_type": "code",
   "execution_count": null,
   "metadata": {},
   "outputs": [],
   "source": [
    "#Des clusters sont faits automatiquement par secteur ou les points sont proches\n",
    "Paris = [48.85, 2.34]\n",
    "map_accident = folium.Map(location = Paris , zoom_start=12)\n",
    "marker_cluster = MarkerCluster().add_to(map_accident)\n",
    "\n",
    "lat = gdf.lat\n",
    "lng = gdf.lon\n",
    "for lat, lng in zip(lat, lng):\n",
    "    folium.Marker(location=[lat,lng],\n",
    "    icon = folium.Icon(color='red', icon_color='black', icon='bicycle', prefix='fa'),\n",
    "    ).add_to(marker_cluster)\n",
    "    \n",
    "map_accident"
   ]
  },
  {
   "cell_type": "markdown",
   "metadata": {},
   "source": [
    "#### Analyses sur la gravité des accidents"
   ]
  },
  {
   "cell_type": "code",
   "execution_count": null,
   "metadata": {},
   "outputs": [],
   "source": [
    "indemne = gdf[gdf['gravite accident']  == '0 - Indemne'][['lat', 'lon']]\n",
    "blesse_leg = gdf[gdf['gravite accident']  == '1 - Blessé léger'][['lat', 'lon']]\n",
    "blesse_hosp = gdf[gdf['gravite accident']  == '2 - Blessé hospitalisé'][['lat', 'lon']]\n",
    "tue =gdf[gdf['gravite accident']  == '3 - Tué'][['lat', 'lon']]"
   ]
  },
  {
   "cell_type": "code",
   "execution_count": null,
   "metadata": {},
   "outputs": [],
   "source": [
    "# Carte différenciant la gravité des accidents\n",
    "Paris = [48.85, 2.34]\n",
    "map_accident = folium.Map(location = Paris , zoom_start=10)\n",
    "\n",
    "lat = indemne.lat\n",
    "lng = indemne.lon\n",
    "for lat, lng in zip(lat, lng):\n",
    "        folium.Marker(location=[lat,lng],icon = folium.Icon(color='white', icon_color='black', icon='bicycle', prefix='fa')).add_to(map_accident)\n",
    "lat = blesse_leg.lat\n",
    "lng = blesse_leg.lon\n",
    "for lat, lng in zip(lat, lng):\n",
    "        folium.Marker(location=[lat,lng],icon = folium.Icon(color='beige', icon_color='black', icon='bicycle', prefix='fa')).add_to(map_accident)\n",
    "lat = blesse_hosp.lat\n",
    "lng = blesse_hosp.lon\n",
    "for lat, lng in zip(lat, lng):\n",
    "        folium.Marker(location=[lat,lng],icon = folium.Icon(color='lightred', icon_color='black', icon='bicycle', prefix='fa')).add_to(map_accident)\n",
    "lat = tue.lat\n",
    "lng = tue.lon\n",
    "for lat, lng in zip(lat, lng):\n",
    "        folium.Marker(location=[lat,lng],icon = folium.Icon(color='red', icon_color='black', icon='bicycle', prefix='fa')).add_to(map_accident)\n",
    "\n",
    "map_accident"
   ]
  },
  {
   "cell_type": "markdown",
   "metadata": {},
   "source": [
    "## II] Personnalisation du GPS"
   ]
  },
  {
   "cell_type": "markdown",
   "metadata": {},
   "source": [
    "### 1) Un GPS qui prend en compte les accidents (Vinciane)"
   ]
  },
  {
   "cell_type": "markdown",
   "metadata": {},
   "source": [
    "#### Les clusters d'accident avec la méthode DBSCAN"
   ]
  },
  {
   "cell_type": "markdown",
   "metadata": {},
   "source": [
    "On utilise DBSCAN, qui permet de créer un cluster avec : \n",
    "- epsilon : la distance entre deux accidents liés au même lieu accidentogène. Nous avons choisi comme distance 50m.\n",
    "- min_samples : le nombre de point minimum pour créer un cluster. Nous avons choisi 3 points, car 2 accidents au même endroit pourraient n'être dûs qu'à une coïncidence."
   ]
  },
  {
   "cell_type": "code",
   "execution_count": null,
   "metadata": {},
   "outputs": [],
   "source": [
    "X=gdf.loc[:,['lat','lon']]\n",
    "kms_per_radian = 6371 \n",
    "epsilon = 0.05/kms_per_radian"
   ]
  },
  {
   "cell_type": "code",
   "execution_count": null,
   "metadata": {},
   "outputs": [],
   "source": [
    "#centre cluster\n",
    "def get_centroid(cluster): \n",
    "    cluster_ary = np.asarray(cluster) \n",
    "    centroid = cluster_ary.mean(axis=0) \n",
    "    return centroid "
   ]
  },
  {
   "cell_type": "code",
   "execution_count": null,
   "metadata": {},
   "outputs": [],
   "source": [
    "dbsc = (DBSCAN(eps=epsilon, min_samples=3).fit(X)) \n",
    "\n",
    "X_labels = dbsc.labels_ \n",
    "num_clusters = len(set(dbsc.labels_)) \n",
    "print(\"Le nombre de clusters est de\", num_clusters)\n",
    "dbsc_clusters = pd.Series([X[X_labels==n] for n in range(num_clusters)]) \n",
    "cluster_centroids = dbsc_clusters.map(get_centroid) \n",
    "\n",
    "gdf['Xc_labelse'] = X_labels\n",
    "gdf_filtered = gdf[X_labels>-1]\n",
    "\n",
    "\n",
    "cent_lat, cent_lon = zip(*cluster_centroids)\n",
    "centroids_df = pd.DataFrame({'lon':cent_lon, 'lat':cent_lat}) \n",
    "print(\"Le nombre d'accidents qui rentrent dans les clusters est de \", len(gdf_filtered))"
   ]
  },
  {
   "cell_type": "code",
   "execution_count": null,
   "metadata": {},
   "outputs": [],
   "source": [
    "fig, ax = plt.subplots(figsize=[11, 8]) \n",
    "dpt.plot(ax=ax, color='0.9', edgecolor='black')\n",
    "\n",
    "accident_scatter = ax.scatter(gdf['lon'], gdf['lat'], c ='midnightblue',alpha=0.25, s=50) \n",
    "centroid_scatter = ax.scatter(centroids_df['lon'], centroids_df['lat'],marker='x', linewidths=2, c='gold', s=50) \n",
    "\n",
    "ax.set_title(\"Clusters d'accidents et le centre des lieux accidentés\", fontsize =20) \n",
    "ax.set_xlabel('Longitude', fontsize=12) \n",
    "ax.set_ylabel('Latitude', fontsize =12) \n",
    "ax.legend([accident_scatter, centroid_scatter], ['Accident', \"Centre d'un cluster d'accident\"], loc='upper right', fontsize = 12) \n",
    "plt.show()"
   ]
  },
  {
   "cell_type": "code",
   "execution_count": null,
   "metadata": {},
   "outputs": [],
   "source": [
    "fig, ax = plt.subplots(figsize=[8, 6]) \n",
    "dpt.plot(ax=ax, color='0.9', edgecolor='black')\n",
    "filtres_scatter = ax.scatter(gdf_filtered['lon'], gdf_filtered['lat'],  c= 'red', alpha =0.25, s=50) \n",
    "centroid_scatter = ax.scatter(centroids_df['lon'], centroids_df['lat'],marker='x', linewidths=2, c='k', s=50) \n",
    "ax.set_title(\"Clusters d'accidents et le centre des lieux accidentés, sans les bruits\", fontsize = 20) \n",
    "ax.set_xlabel('Longitude', fontsize = 16) \n",
    "ax.set_ylabel('Latitude', fontsize = 16) \n",
    "axes = plt.gca()\n",
    "axes.set_xlim(2.00, 2.70)\n",
    "axes.set_ylim(48.4, 49.1)\n",
    "ax.legend([accident_scatter, centroid_scatter], [\"Accident au sein d'un cluster\", \"Centre d'un cluster d'accident\"], loc='upper right', fontsize = 12)\n",
    "plt.show()"
   ]
  },
  {
   "cell_type": "code",
   "execution_count": null,
   "metadata": {},
   "outputs": [],
   "source": [
    "centroids_df = centroids_df.dropna() #On trouve 1 valeur manquante, on l'enlève\n",
    "centroids_df #Liste des lieux particulièrement accidentogènes en Ile-de-France"
   ]
  },
  {
   "cell_type": "markdown",
   "metadata": {},
   "source": [
    "### 2) Un GPS qui informe sur les conditions météréologiques (Vinciane)"
   ]
  },
  {
   "cell_type": "markdown",
   "metadata": {},
   "source": [
    "#### La météo en temps réel"
   ]
  },
  {
   "cell_type": "code",
   "execution_count": null,
   "metadata": {},
   "outputs": [],
   "source": [
    "##On cherche l'heure et la date de la requête par le cycliste: \n",
    "time.strftime('%Y-%m-%d %H:%M:%S', time.localtime()) #Date et heure\n",
    "Date = time.strftime('%Y-%m-%d', time.localtime()) #Date\n",
    "Time = time.strftime('%H:%M', time.localtime()) #Heure\n",
    "DateTime = time.strftime('%Y-%m-%dT%H:%M:%S', time.localtime()) \n",
    "print('Voic la date de la recherche : ', Date)\n",
    "print(\"Voici l'heure de la recherche :\", Time)\n",
    "print(DateTime, 'heure')"
   ]
  },
  {
   "cell_type": "code",
   "execution_count": null,
   "metadata": {},
   "outputs": [],
   "source": [
    "meteo_gpd = 'https://www.data.gouv.fr/fr/datasets/r/8e834f69-0b43-439a-87bd-87ca80c84cd7'\n",
    "meteo_idf = gpd.read_file(meteo_gpd) \n",
    "#Base de donnée avec prévisions pour les 36h après sa mise à jour "
   ]
  },
  {
   "cell_type": "code",
   "execution_count": null,
   "metadata": {},
   "outputs": [],
   "source": [
    "meteo_idf = meteo_idf[['timestamp', 'forecast', '2_metre_temperature', 'total_water_precipitation',  'geometry']]\n",
    "meteo_idf.head(10)"
   ]
  },
  {
   "cell_type": "markdown",
   "metadata": {},
   "source": [
    "D'après la documentation, \n",
    "\n",
    "- La colonne \"total_water_precipitation\" correspond au cumul (depuis le début de la simulation) de la somme des flux au sol des précipitations liquides et solides (eau, neige, grêlons) en kg/m-2\n",
    "- La colonne \"2_metre_temperature\" est la température diagnostiquée à 2m de hauteur au dessus du relief"
   ]
  },
  {
   "cell_type": "code",
   "execution_count": null,
   "metadata": {},
   "outputs": [],
   "source": [
    "meteo_idf[\"duration\"] = pd.to_datetime(meteo_idf[\"forecast\"]) - pd.to_datetime(meteo_idf[\"timestamp\"])\n",
    "meteo_idf[\"duration\"] = meteo_idf[\"duration\"].astype(\"timedelta64[m]\")\n",
    "#Différence en minutes entre la prévision et l'heure prévue\n",
    "meteo_idf = meteo_idf.cx[2.35,48.85] \n",
    "#On ne garde que les prévisions pour le centre de Paris ce qu'on suppose représentatif de la météo pour toute l'Ile-de-France\n",
    "meteo_idf = meteo_idf.sort_values('forecast')"
   ]
  },
  {
   "cell_type": "code",
   "execution_count": null,
   "metadata": {},
   "outputs": [],
   "source": [
    "meteo_idf2 = meteo_idf.reset_index()"
   ]
  },
  {
   "cell_type": "code",
   "execution_count": null,
   "metadata": {},
   "outputs": [],
   "source": [
    "for i in range(1,len(meteo_idf2)):\n",
    "    meteo_idf2.loc[i, 'diff_precipitation'] = meteo_idf2.loc[i,'total_water_precipitation']-meteo_idf2.loc[i-1,'total_water_precipitation']\n",
    "#Parfois des erreurs dans la conception des données, lorsque \"duree\" est négative (impossible car signifierait que la somme des précipitations diminue dans le temps)\n",
    "#Pour négliger ces erreurs, on remplace les valeurs négatives par 0\n",
    "meteo_idf2.loc[(meteo_idf2[\"diff_precipitation\"]<0), \"diff_precipitation\"] = 0"
   ]
  },
  {
   "cell_type": "code",
   "execution_count": null,
   "metadata": {},
   "outputs": [],
   "source": [
    "meteo_idf2.head(8)"
   ]
  },
  {
   "cell_type": "code",
   "execution_count": null,
   "metadata": {},
   "outputs": [],
   "source": [
    "for i in range(1,len(meteo_idf2)):\n",
    "    meteo_idf2.loc[i, 'duree_intervalle'] = meteo_idf2.loc[i,'duration']-meteo_idf2.loc[i-1,'duration']"
   ]
  },
  {
   "cell_type": "markdown",
   "metadata": {},
   "source": [
    "Conversion des données de précipitations en kg/m-2 en données mesurées en mm/h :\n",
    "On a 1L/m² =1mm, et 1kg d'eau = 1L d'eau, d'où : \n",
    "- précipitation en 1h = (précipitations pendant l'intervalle)/(duree intervalle)*60 \n",
    "\n",
    "La manière de mesurer les précipitations la plus répandue est la pluviométrie, qui correspond à la hauteur d'eau recueillie sur une surface plane (exprimée en mm). \n",
    "On sépare l'intensité de la pluie : \n",
    "- pluie très faible et négligeable  (de 0 à 2 mm/h)\n",
    "- modérée et forte (plus 2 mm/h)"
   ]
  },
  {
   "cell_type": "code",
   "execution_count": null,
   "metadata": {},
   "outputs": [],
   "source": [
    "meteo_idf2[\"precipitations mm/h\"] = ((meteo_idf2[\"diff_precipitation\"])/(meteo_idf2[\"duree_intervalle\"]))*60\n",
    "##A vérifier\n",
    "meteo_idf3 = meteo_idf2[['forecast', '2_metre_temperature','precipitations mm/h']]\n",
    "meteo_idf3.sort_values('forecast').head(5)"
   ]
  },
  {
   "cell_type": "code",
   "execution_count": null,
   "metadata": {},
   "outputs": [],
   "source": [
    "meteo_idf_temps_reel = meteo_idf2.loc[meteo_idf2['forecast'] <= DateTime][['forecast', '2_metre_temperature', 'precipitations mm/h' ]].sort_values('forecast').tail(1)\n",
    "# On fait en rognant l'heure et non en approximant => voir si améliorable ou pas\n",
    "meteo_idf_temps_reel"
   ]
  },
  {
   "cell_type": "code",
   "execution_count": null,
   "metadata": {},
   "outputs": [],
   "source": [
    "if meteo_idf_temps_reel['precipitations mm/h'].item()> 2.000 and (meteo_idf_temps_reel['2_metre_temperature'].item() > -1 or meteo_idf_temps_reel['2_metre_temperature'].item()) < 1:\n",
    "    print('Attention il pleut et il y a peut-être du verglas sur la chaussée.')\n",
    "elif meteo_idf_temps_reel['precipitations mm/h'].item() > 2.000 and (meteo_idf_temps_reel['2_metre_temperature'].item() < -1 or meteo_idf_temps_reel['2_metre_temperature'].item()) > 1:\n",
    "    print(\"Attention il pleut, mais normalement, il n'y a pas de verglas sur la chaussée\")\n",
    "elif meteo_idf_temps_reel['precipitations mm/h'].item() < 2.00 and (meteo_idf_temps_reel['2_metre_temperature'].item() > -1 or meteo_idf_temps_reel['2_metre_temperature'].item()) < 1:\n",
    "    print(\"Il ne pleut pas, mais attention, il peut y avoir du verglas.\")\n",
    "else:\n",
    "    print(\"Quel chanceux, il n'y a ni pluie ni verglas.\")\n",
    "print('Pendant votre trajet il fera une température de',round(meteo_idf_temps_reel['2_metre_temperature'].item(),2), 'degrès.')"
   ]
  },
  {
   "cell_type": "markdown",
   "metadata": {},
   "source": [
    "#### Les heures de lever et de coucher du soleil : "
   ]
  },
  {
   "cell_type": "markdown",
   "metadata": {},
   "source": [
    "Base de donnée à télécharger par année sur le site : http://ptaff.ca/\n",
    "Elle est sur Github"
   ]
  },
  {
   "cell_type": "code",
   "execution_count": null,
   "metadata": {},
   "outputs": [],
   "source": [
    "heures_soleil = pd.read_csv('D:/Données/ENSAE/lever_coucher_soleil.csv',  sep = ',')\n",
    "heures_soleil.loc[heures_soleil['Date'] == Date] "
   ]
  },
  {
   "cell_type": "code",
   "execution_count": null,
   "metadata": {},
   "outputs": [],
   "source": [
    "heures_soleil.loc[heures_soleil['Date'] == Date]\n",
    "if  Time >=heures_soleil.loc[heures_soleil['Date'] == Date]['Lever_du_soleil'].any() and Time <=heures_soleil.loc[heures_soleil['Date'] == Date]['Coucher_du_soleil'].any():\n",
    "    print('Il est', Time,', vous roulez de jour.')\n",
    "else: \n",
    "    print('Il est', Time, \"heure\",'attention, vous roulez de nuit.')"
   ]
  },
  {
   "cell_type": "markdown",
   "metadata": {},
   "source": [
    "### 3)  Un GPS qui prend en compte les affluences (Romane)"
   ]
  },
  {
   "cell_type": "markdown",
   "metadata": {},
   "source": [
    "## III] Utilisation du GPS (Imane)"
   ]
  },
  {
   "cell_type": "markdown",
   "metadata": {},
   "source": [
    "#### Choix du point de départ et du point d'arrivée"
   ]
  },
  {
   "cell_type": "code",
   "execution_count": null,
   "metadata": {},
   "outputs": [],
   "source": [
    "adresse_depart =input(\"D'où partez-vous ? (numéro, rue, code postal ville)\")\n",
    "\n",
    "adresse_arrivee = input(\"Où voulez-vous aller ? (numéro, rue, code postal ville)\")"
   ]
  },
  {
   "cell_type": "code",
   "execution_count": null,
   "metadata": {},
   "outputs": [],
   "source": [
    "print(adresse_depart)"
   ]
  },
  {
   "cell_type": "code",
   "execution_count": null,
   "metadata": {},
   "outputs": [],
   "source": [
    "print(adresse_arrivee)"
   ]
  },
  {
   "cell_type": "code",
   "execution_count": null,
   "metadata": {},
   "outputs": [],
   "source": [
    "#adresse_depart = \"5, Avenue Anatole France, 75007 Paris\"\n",
    "#adresse_arrivee = \"35, Rue du Chevalier de la Barre, 75018 Paris\"\n",
    "dep_json = requests.get(\"https://api-adresse.data.gouv.fr/search/?q=\" + urllib.parse.quote(adresse_depart) + \"&format=json\").json()\n",
    "arr_json = requests.get(\"https://api-adresse.data.gouv.fr/search/?q=\" + urllib.parse.quote(adresse_arrivee) + \"&format=json\").json()\n",
    "coord_dep = list(dep_json['features'][0].get('geometry').get('coordinates'))\n",
    "coord_arr = list(arr_json['features'][0].get('geometry').get('coordinates'))\n",
    "#coord_dep\n",
    "#coord_arr"
   ]
  },
  {
   "cell_type": "code",
   "execution_count": null,
   "metadata": {},
   "outputs": [],
   "source": [
    "x = input(\"Avez-vous votre propre vélo ? Entrez 'oui' ou 'non' \")"
   ]
  },
  {
   "cell_type": "markdown",
   "metadata": {},
   "source": [
    "## Lorsque l'utilisateur n'a pas son propre vélo"
   ]
  },
  {
   "cell_type": "code",
   "execution_count": null,
   "metadata": {},
   "outputs": [],
   "source": [
    "if(x=='non'):\n",
    "    # Calcul de la distance en km entre le point de départ et toutes les stations\n",
    "\n",
    "    distances = []\n",
    "    for i in range(len(velos.geometry)):\n",
    "      a = (max(velos.geometry[i].x, coord_dep[0]) - min(velos.geometry[i].x, coord_dep[0]))**2 + (max(velos.geometry[i].y, coord_dep[1]) - min(velos.geometry[i].y, coord_dep[1]))**2\n",
    "      a = a**(1/2)*100\n",
    "      distances.append(a)\n",
    "    \n",
    "    #Station la plus proche du point de départ \n",
    "\n",
    "    i = distances.index(min(distances))\n",
    "\n",
    "    station_dep = [velos[\"geometry\"][i].y, velos[\"geometry\"][i].x]\n",
    "\n",
    "    print( 'Station la plus proche du point de départ : \\n', velos[\"name\"][i] )\n",
    "    \n",
    "    # Vérification disponibilité vélo dans la station de départ\n",
    "    \n",
    "    if(velos[\"numbikesavailable\"][i]!=0 and velos[\"numbikesavailable\"][i]!=\"N\" ):\n",
    "        print(\"\\n \\n Un vélo est disponible à la station la plus proche du point de départ\")\n",
    "        \n",
    "    #if(velos[\"numbikesavailable\"][i]==\"N\" ):\n",
    "    #    print(\"\\n \\n Nous ne disposons pas d'information concernant la disponibilité d'un vélo à la station la plus proche du point de départ\")\n",
    "        \n",
    "    print('\\n \\nDistance à effectuer à pied (point d arrivee -> station) :', min(distances), \"km\")\n",
    "    print(\"soit un temps de trajet d'environ:\", min(distances)*1000/66.67, \"minutes\\n \\n\")\n",
    "    \n",
    "    # Calcul de la distance en km entre le point d'arrivée et toutes les stations\n",
    "\n",
    "    distances = []\n",
    "    for i in range(len(velos.geometry)):\n",
    "      a = (max(velos.geometry[i].x, coord_arr[0]) - min(velos.geometry[i].x, coord_arr[0]))**2 + (max(velos.geometry[i].y, coord_arr[1]) - min(velos.geometry[i].y, coord_arr[1]))**2\n",
    "      a = a**(1/2)*100\n",
    "      distances.append(a)\n",
    "    \n",
    "    #Station la plus proche du point d'arrivée\n",
    "\n",
    "    j = distances.index(min(distances))\n",
    "\n",
    "    station_arr = [velos[\"geometry\"][j].y, velos[\"geometry\"][j].x] \n",
    "\n",
    "    print( 'Station la plus proche du point d arrivée: \\n', velos[\"name\"][j] )\n",
    "    print( '\\n \\nDistance à effectuer à pied (station -> point d arrivee) :', min(distances), \"km\")\n",
    "    print(\"soit un temps de trajet d'environ:\", min(distances)*1000/66.67, \"minutes\\n \\n\")\n",
    "    \n",
    "    \n",
    "    #Trajet à pied : point de départ -> station départ\n",
    "    \n",
    "    coor_depart = [coord_dep[1], coord_dep[0]] \n",
    "    coor_arrivee = [coord_arr[1], coord_arr[0]] \n",
    "\n",
    "    folium.Marker(coor_depart,popup=\"Départ\").add_to(idf)\n",
    "    folium.Marker(coor_arrivee,popup=\"Arrivée\").add_to(idf)\n",
    "    \n",
    "    router = pyroutelib3.Router(\"foot\")\n",
    "\n",
    "    depart = router.findNode(coor_depart[0], coor_depart[1])\n",
    "    arrivee = router.findNode(station_dep[0], station_dep[1])\n",
    "\n",
    "    routeLatLons=[coor_depart,station_dep]\n",
    "    status, route = router.doRoute(depart, arrivee)\n",
    "    if status == 'success':\n",
    "      #print(\"votre trajet existe\")\n",
    "      routeLatLons = list(map(router.nodeLatLon, route))\n",
    "    else:\n",
    "      print(\"Votre trajet n'existe pas\")\n",
    "\n",
    "    #print(routeLatLons)\n",
    "    for coord in routeLatLons:\n",
    "      coord=list(coord)\n",
    "      folium.CircleMarker(coord,radius = 3,fill=True, color='green').add_to(idf)\n",
    "\n",
    "    folium.PolyLine(routeLatLons, color=\"black\", weight=2.5, opacity=1).add_to(idf)\n",
    "    \n",
    "    # Trajet en vélo : station départ -> station arrivée\n",
    "    \n",
    "    router = pyroutelib3.Router(\"cycle\")\n",
    "    depart = router.findNode(station_dep[0], station_dep[1])\n",
    "    arrivee = router.findNode(station_arr[0], station_arr[1])\n",
    "\n",
    "    routeLatLons=[station_dep,station_arr]\n",
    "    status, route = router.doRoute(depart, arrivee)\n",
    "    if status == 'success':\n",
    "      #print(\"votre trajet existe\")\n",
    "      routeLatLons = list(map(router.nodeLatLon, route))\n",
    "    else:\n",
    "      print(\"votre trajet n'existe pas\")\n",
    "\n",
    "    #print(routeLatLons)\n",
    "    for coord in routeLatLons:\n",
    "      coord=list(coord)\n",
    "      folium.CircleMarker(coord,radius = 3,fill=True, color='green').add_to(idf)\n",
    "\n",
    "    folium.PolyLine(routeLatLons, color=\"red\", weight=2.5, opacity=1).add_to(idf)\n",
    "    \n",
    "    \n",
    "    # Trajet à pied : station arrivée -> point d'arrivée\n",
    "    \n",
    "    router = pyroutelib3.Router(\"foot\")\n",
    "    depart = router.findNode(station_arr[0], station_arr[1])\n",
    "    arrivee = router.findNode(coor_arrivee[0], coor_arrivee[1])\n",
    "\n",
    "    routeLatLons=[station_arr, coor_arrivee]\n",
    "    status, route = router.doRoute(depart, arrivee)\n",
    "    if status == 'success':\n",
    "      #print(\"votre trajet existe\")\n",
    "      routeLatLons = list(map(router.nodeLatLon, route))\n",
    "    else:\n",
    "      print(\"Votre trajet n'existe pas\")\n",
    "\n",
    "    for coord in routeLatLons:\n",
    "      coord=list(coord)\n",
    "      folium.CircleMarker(coord,radius = 3,fill=True, color='green').add_to(idf)\n",
    "\n",
    "    folium.PolyLine(routeLatLons, color=\"black\", weight=2.5, opacity=1).add_to(idf)\n",
    "    "
   ]
  },
  {
   "cell_type": "code",
   "execution_count": null,
   "metadata": {},
   "outputs": [],
   "source": [
    "idf"
   ]
  },
  {
   "cell_type": "markdown",
   "metadata": {},
   "source": [
    "# Lorsque l'utilisateur a son propre vélo"
   ]
  },
  {
   "cell_type": "code",
   "execution_count": null,
   "metadata": {},
   "outputs": [],
   "source": [
    "x='oui'"
   ]
  },
  {
   "cell_type": "code",
   "execution_count": null,
   "metadata": {},
   "outputs": [],
   "source": [
    "if(x=='oui'):\n",
    "    \n",
    "    coor_depart = [coord_dep[1], coord_dep[0]] \n",
    "    coor_arrivee = [coord_arr[1], coord_arr[0]] \n",
    "\n",
    "    folium.Marker(coor_depart,popup=\"Départ\").add_to(idf)\n",
    "    folium.Marker(coor_arrivee,popup=\"Arrivée\").add_to(idf)\n",
    "    \n",
    "    # Trajet en vélo : point départ -> point d'arrivée\n",
    "    \n",
    "    router = pyroutelib3.Router(\"cycle\")\n",
    "    depart = router.findNode(coor_depart[0], coor_depart[1])\n",
    "    #print(depart)\n",
    "    arrivee = router.findNode(coor_arrivee[0], coor_arrivee[1])\n",
    "    #print(arrivee)\n",
    "\n",
    "    routeLatLons=[coor_depart,coor_arrivee]\n",
    "    status, route = router.doRoute(depart, arrivee)\n",
    "    if status == 'success':\n",
    "      #print(\"Votre trajet existe\")\n",
    "      routeLatLons = list(map(router.nodeLatLon, route))\n",
    "    else:\n",
    "      print(\"Votre trajet n'existe pas\")\n",
    "\n",
    "    #print(routeLatLons)\n",
    "    for coord in routeLatLons:\n",
    "      coord=list(coord)\n",
    "      folium.CircleMarker(coord,radius = 3,fill=True, color='green').add_to(idf)\n",
    "\n",
    "    folium.PolyLine(routeLatLons, color=\"red\", weight=2.5, opacity=1).add_to(idf)\n",
    "    "
   ]
  },
  {
   "cell_type": "code",
   "execution_count": null,
   "metadata": {},
   "outputs": [],
   "source": [
    "idf"
   ]
  },
  {
   "cell_type": "markdown",
   "metadata": {},
   "source": [
    "#### Signalement de la part de l'utilisateur après le trajet"
   ]
  },
  {
   "cell_type": "code",
   "execution_count": null,
   "metadata": {},
   "outputs": [],
   "source": [
    "a=input(\"Suite à votre trajet, souhaitez-vous signaler quelque chose ? Entrez 'oui' ou 'non'\")\n",
    "\n",
    "if(a=='oui'):\n",
    "    x=input(\"Que souhaitez-vous signaler ?\")\n",
    "    print(\"Cliquez à l'endroit correspondant sur la carte\")\n",
    "    \n",
    "print(\"Merci de contribuer à l'amélioration notre application!\")\n",
    "\n",
    "idf.add_child(folium.ClickForMarker(popup=x))\n",
    "\n",
    "#idf.add_child(folium.LatLngPopup())"
   ]
  }
 ],
 "metadata": {
  "kernelspec": {
   "display_name": "Python 3",
   "language": "python",
   "name": "python3"
  },
  "language_info": {
   "codemirror_mode": {
    "name": "ipython",
    "version": 3
   },
   "file_extension": ".py",
   "mimetype": "text/x-python",
   "name": "python",
   "nbconvert_exporter": "python",
   "pygments_lexer": "ipython3",
   "version": "3.7.4"
  }
 },
 "nbformat": 4,
 "nbformat_minor": 4
}
