{
 "cells": [
  {
   "cell_type": "markdown",
   "metadata": {},
   "source": [
    "# Afficher l'heure et la météo au moment de la requête du cycliste"
   ]
  },
  {
   "cell_type": "code",
   "execution_count": 2,
   "metadata": {},
   "outputs": [],
   "source": [
    "import geopandas as gpd\n",
    "import pandas as pd\n",
    "import numpy as np\n",
    "import seaborn as sns\n",
    "import matplotlib.pyplot as plt"
   ]
  },
  {
   "cell_type": "markdown",
   "metadata": {},
   "source": [
    "### L'heure et la date en temps réel"
   ]
  },
  {
   "cell_type": "code",
   "execution_count": 3,
   "metadata": {},
   "outputs": [
    {
     "name": "stdout",
     "output_type": "stream",
     "text": [
      "Aujourd'hui nous sommes le 13-12-2020\n"
     ]
    }
   ],
   "source": [
    "##L'heure et la date de la requête : \n",
    "import time\n",
    "import datetime\n",
    "#On regarde l'heure et la date de la requête\n",
    "time.strftime('%Y-%m-%d %H:%M:%S', time.localtime()) #Date et heure en entier\n",
    "Date = time.strftime('%Y-%m-%d', time.localtime())\n",
    "Date_Eur = time.strftime('%d-%m-%Y', time.localtime())\n",
    "Time = time.strftime('%H:%M', time.localtime()) #Heure uniquement\n",
    "DateTime = time.strftime('%Y-%m-%dT%H:%M:%S', time.localtime()) \n",
    "# Pour faciliter ici, je n'ai pas arrondi les minutes, mais rogné\n",
    "print(\"Aujourd'hui nous sommes le\", Date_Eur)"
   ]
  },
  {
   "cell_type": "markdown",
   "metadata": {},
   "source": [
    "### Les heures de lever et de coucher du soleil : \n",
    "\n",
    "\n",
    "Difficulté pour trouver une base de donnée propre : seulement à télécharger par année\n",
    "On prend la base de donnée sur le site : http://ptaff.ca/, et je l'ai mise sur Github"
   ]
  },
  {
   "cell_type": "code",
   "execution_count": 5,
   "metadata": {},
   "outputs": [
    {
     "data": {
      "text/html": [
       "<div>\n",
       "<style scoped>\n",
       "    .dataframe tbody tr th:only-of-type {\n",
       "        vertical-align: middle;\n",
       "    }\n",
       "\n",
       "    .dataframe tbody tr th {\n",
       "        vertical-align: top;\n",
       "    }\n",
       "\n",
       "    .dataframe thead th {\n",
       "        text-align: right;\n",
       "    }\n",
       "</style>\n",
       "<table border=\"1\" class=\"dataframe\">\n",
       "  <thead>\n",
       "    <tr style=\"text-align: right;\">\n",
       "      <th></th>\n",
       "      <th>Date</th>\n",
       "      <th>Lever_du_soleil</th>\n",
       "      <th>Coucher_du_soleil</th>\n",
       "      <th>Durée_du_jour</th>\n",
       "    </tr>\n",
       "  </thead>\n",
       "  <tbody>\n",
       "    <tr>\n",
       "      <td>347</td>\n",
       "      <td>2020-12-13</td>\n",
       "      <td>08:36</td>\n",
       "      <td>16:54</td>\n",
       "      <td>08:18</td>\n",
       "    </tr>\n",
       "  </tbody>\n",
       "</table>\n",
       "</div>"
      ],
      "text/plain": [
       "           Date Lever_du_soleil Coucher_du_soleil Durée_du_jour\n",
       "347  2020-12-13           08:36             16:54         08:18"
      ]
     },
     "execution_count": 5,
     "metadata": {},
     "output_type": "execute_result"
    }
   ],
   "source": [
    "heures_soleil = pd.read_csv('https://raw.githubusercontent.com/ImaneFa/Projet_Python/main/lever_coucher_soleil.csv',  sep = ',')\n",
    "heures_soleil.loc[heures_soleil['Date'] == Date] "
   ]
  },
  {
   "cell_type": "code",
   "execution_count": 6,
   "metadata": {},
   "outputs": [
    {
     "name": "stdout",
     "output_type": "stream",
     "text": [
      "Il est 15:52 , vous roulez de jour.\n"
     ]
    }
   ],
   "source": [
    "heures_soleil.loc[heures_soleil['Date'] == Date]\n",
    "if  Time >=heures_soleil.loc[heures_soleil['Date'] == Date]['Lever_du_soleil'].any() and Time <=heures_soleil.loc[heures_soleil['Date'] == Date]['Coucher_du_soleil'].any():\n",
    "    print('Il est', Time,', vous roulez de jour.')\n",
    "else: \n",
    "    print('Il est', Time,'attention, vous roulez de nuit.')"
   ]
  },
  {
   "cell_type": "markdown",
   "metadata": {},
   "source": [
    "### La météo en temps réel\n",
    "\n",
    "Sur le site : https://www.data.gouv.fr/fr/datasets/prevision-meteo-ile-de-france-arome/#_ on prélève la seule base de donnée gratuite d'internet avec les prévisions pour les 36h après sa mise à jour\n"
   ]
  },
  {
   "cell_type": "code",
   "execution_count": 4,
   "metadata": {},
   "outputs": [],
   "source": [
    "meteo_gpd = 'https://www.data.gouv.fr/fr/datasets/r/8e834f69-0b43-439a-87bd-87ca80c84cd7'\n",
    "meteo_idf = gpd.read_file(meteo_gpd)"
   ]
  },
  {
   "cell_type": "code",
   "execution_count": 5,
   "metadata": {},
   "outputs": [],
   "source": [
    "meteo_idf = meteo_idf[['timestamp', 'forecast', '2_metre_temperature', 'total_water_precipitation',  'geometry']]\n",
    "meteo_idf = meteo_idf.sort_values('forecast')"
   ]
  },
  {
   "cell_type": "markdown",
   "metadata": {},
   "source": [
    "D'après la documentation, \n",
    "\n",
    "- La colonne _\"total_water_precipitation\"_ correspond au cumul (depuis le début de la simulation) de la somme des flux au sol des précipitations liquides et solides (eau, neige, grêlons) en kg/m²\n",
    "- La colonne _\"2_metre_temperature\"_ correspond à la température diagnostiquée à 2m de hauteur au dessus du relief"
   ]
  },
  {
   "cell_type": "code",
   "execution_count": 6,
   "metadata": {
    "scrolled": true
   },
   "outputs": [],
   "source": [
    "#Différence en minutes entre la prévision et l'heure prévue\n",
    "meteo_idf[\"duration\"] = pd.to_datetime(meteo_idf[\"forecast\"]) - pd.to_datetime(meteo_idf[\"timestamp\"])\n",
    "meteo_idf[\"duration\"] = meteo_idf[\"duration\"].astype(\"timedelta64[m]\") \n",
    "#On ne conserve que les prévisions pour le centre de Paris en les supposant signifiantes pour toute l'Ile-de-France\n",
    "meteo_idf = meteo_idf.cx[2.35,48.85] "
   ]
  },
  {
   "cell_type": "code",
   "execution_count": 7,
   "metadata": {},
   "outputs": [],
   "source": [
    "meteo_idf = meteo_idf.reset_index()"
   ]
  },
  {
   "cell_type": "code",
   "execution_count": 8,
   "metadata": {},
   "outputs": [],
   "source": [
    "for i in range(1,len(meteo_idf)):\n",
    "    meteo_idf.loc[i, 'diff_precipitation'] = meteo_idf.loc[i,'total_water_precipitation']-meteo_idf.loc[i-1,'total_water_precipitation']\n",
    "\n",
    "#Parfois des erreurs dans la conception des données, lorsque \"duree\" est négative (impossible car signifierait que la somme des précipitations diminue dans le temps)\n",
    "#Pour négliger ces erreurs, on remplace les valeurs négatives par 0\n",
    "meteo_idf.loc[(meteo_idf[\"diff_precipitation\"]<0), \"diff_precipitation\"] = 0"
   ]
  },
  {
   "cell_type": "code",
   "execution_count": 9,
   "metadata": {},
   "outputs": [],
   "source": [
    "#On trouve la durée de l'intervalle entre deux estimations\n",
    "for i in range(1,len(meteo_idf)):\n",
    "    meteo_idf.loc[i, 'duree_intervalle'] = meteo_idf.loc[i,'duration']-meteo_idf.loc[i-1,'duration']"
   ]
  },
  {
   "cell_type": "markdown",
   "metadata": {},
   "source": [
    "Conversion des données de précipitations en kg/m² en données mesurées en mm/h :\n",
    "On a 1L/m² =1mm, et 1kg d'eau = 1L d'eau, d'où : \n",
    "- précipitation en 1h = (précipitations pendant l'intervalle)/(duree intervalle)*60 \n",
    "\n",
    "La manière de mesurer les précipitations la plus répandue est la pluviométrie, qui correspond à la hauteur d'eau recueillie sur une surface plane (exprimée en mm). \n",
    "On sépare l'intensité de la pluie : \n",
    "- pluie très faible et négligeable  (de 0 à 2 mm/h)\n",
    "- modérée et forte (plus 2 mm/h)"
   ]
  },
  {
   "cell_type": "code",
   "execution_count": 10,
   "metadata": {},
   "outputs": [],
   "source": [
    "meteo_idf[\"precipitations mm/h\"] = ((meteo_idf[\"diff_precipitation\"])/(meteo_idf[\"duree_intervalle\"]))*60\n",
    "meteo_idf = meteo_idf[['forecast', '2_metre_temperature','precipitations mm/h']]"
   ]
  },
  {
   "cell_type": "code",
   "execution_count": 11,
   "metadata": {},
   "outputs": [
    {
     "data": {
      "text/html": [
       "<div>\n",
       "<style scoped>\n",
       "    .dataframe tbody tr th:only-of-type {\n",
       "        vertical-align: middle;\n",
       "    }\n",
       "\n",
       "    .dataframe tbody tr th {\n",
       "        vertical-align: top;\n",
       "    }\n",
       "\n",
       "    .dataframe thead th {\n",
       "        text-align: right;\n",
       "    }\n",
       "</style>\n",
       "<table border=\"1\" class=\"dataframe\">\n",
       "  <thead>\n",
       "    <tr style=\"text-align: right;\">\n",
       "      <th></th>\n",
       "      <th>forecast</th>\n",
       "      <th>2_metre_temperature</th>\n",
       "      <th>precipitations mm/h</th>\n",
       "    </tr>\n",
       "  </thead>\n",
       "  <tbody>\n",
       "    <tr>\n",
       "      <td>15</td>\n",
       "      <td>2020-12-13T19:00:00</td>\n",
       "      <td>7.549463</td>\n",
       "      <td>0.0</td>\n",
       "    </tr>\n",
       "  </tbody>\n",
       "</table>\n",
       "</div>"
      ],
      "text/plain": [
       "               forecast  2_metre_temperature  precipitations mm/h\n",
       "15  2020-12-13T19:00:00             7.549463                  0.0"
      ]
     },
     "execution_count": 11,
     "metadata": {},
     "output_type": "execute_result"
    }
   ],
   "source": [
    "meteo_idf_temps_reel = meteo_idf.loc[meteo_idf['forecast'] <= DateTime][['forecast', '2_metre_temperature', 'precipitations mm/h' ]].sort_values('forecast').tail(1)\n",
    "# On fait en rognant l'heure et non en approximant => voir si améliorable ou pas\n",
    "meteo_idf_temps_reel"
   ]
  },
  {
   "cell_type": "markdown",
   "metadata": {},
   "source": [
    "On compare la météo actuelle par rapport aux accidents enregistrés"
   ]
  },
  {
   "cell_type": "code",
   "execution_count": 12,
   "metadata": {},
   "outputs": [
    {
     "name": "stderr",
     "output_type": "stream",
     "text": [
      "C:\\Users\\Vinciane\\Anaconda3\\lib\\site-packages\\IPython\\core\\interactiveshell.py:3058: DtypeWarning: Columns (5,6,15) have mixed types. Specify dtype option on import or set low_memory=False.\n",
      "  interactivity=interactivity, compiler=compiler, result=result)\n"
     ]
    }
   ],
   "source": [
    "accident_velo = pd.read_csv('https://www.data.gouv.fr/fr/datasets/r/3d5f2317-5afd-4a9f-a9c5-bd4fe0113f39')\n",
    "accident_velo_idf = accident_velo[accident_velo['departement'].isin(['75','77','78','91','92','93','94','95'])]\n",
    "# Il y a un problème avec les latitudes et les longitudes nulles et les quelques erreurs"
   ]
  },
  {
   "cell_type": "code",
   "execution_count": 13,
   "metadata": {},
   "outputs": [
    {
     "data": {
      "text/html": [
       "<div>\n",
       "<style scoped>\n",
       "    .dataframe tbody tr th:only-of-type {\n",
       "        vertical-align: middle;\n",
       "    }\n",
       "\n",
       "    .dataframe tbody tr th {\n",
       "        vertical-align: top;\n",
       "    }\n",
       "\n",
       "    .dataframe thead th {\n",
       "        text-align: right;\n",
       "    }\n",
       "</style>\n",
       "<table border=\"1\" class=\"dataframe\">\n",
       "  <thead>\n",
       "    <tr style=\"text-align: right;\">\n",
       "      <th></th>\n",
       "      <th>identifiant accident</th>\n",
       "      <th>date</th>\n",
       "      <th>mois</th>\n",
       "      <th>jour</th>\n",
       "      <th>heure</th>\n",
       "      <th>departement</th>\n",
       "      <th>luminosite</th>\n",
       "      <th>conditions atmosperiques</th>\n",
       "      <th>etat surface</th>\n",
       "      <th>sexe</th>\n",
       "      <th>age</th>\n",
       "      <th>gravite accident</th>\n",
       "      <th>commune</th>\n",
       "    </tr>\n",
       "  </thead>\n",
       "  <tbody>\n",
       "    <tr>\n",
       "      <td>58</td>\n",
       "      <td>200500001606</td>\n",
       "      <td>2005-01-13</td>\n",
       "      <td>01 - janvier</td>\n",
       "      <td>3 - jeudi</td>\n",
       "      <td>11.0</td>\n",
       "      <td>78</td>\n",
       "      <td>Plein jour</td>\n",
       "      <td>Normale</td>\n",
       "      <td>normale</td>\n",
       "      <td>M</td>\n",
       "      <td>61-62</td>\n",
       "      <td>2 - Blessé hospitalisé</td>\n",
       "      <td>78230</td>\n",
       "    </tr>\n",
       "    <tr>\n",
       "      <td>61</td>\n",
       "      <td>200500001930</td>\n",
       "      <td>2005-01-15</td>\n",
       "      <td>01 - janvier</td>\n",
       "      <td>5 - samedi</td>\n",
       "      <td>15.0</td>\n",
       "      <td>95</td>\n",
       "      <td>Plein jour</td>\n",
       "      <td>Normale</td>\n",
       "      <td>normale</td>\n",
       "      <td>M</td>\n",
       "      <td>58-59</td>\n",
       "      <td>0 - Indemne</td>\n",
       "      <td>95042</td>\n",
       "    </tr>\n",
       "    <tr>\n",
       "      <td>221</td>\n",
       "      <td>200500004591</td>\n",
       "      <td>2005-01-04</td>\n",
       "      <td>01 - janvier</td>\n",
       "      <td>1 - mardi</td>\n",
       "      <td>17.0</td>\n",
       "      <td>75</td>\n",
       "      <td>Nuit avec éclairage public allumé</td>\n",
       "      <td>Normale</td>\n",
       "      <td>normale</td>\n",
       "      <td>M</td>\n",
       "      <td>36-37</td>\n",
       "      <td>1 - Blessé léger</td>\n",
       "      <td>75001</td>\n",
       "    </tr>\n",
       "    <tr>\n",
       "      <td>222</td>\n",
       "      <td>200500004597</td>\n",
       "      <td>2005-01-03</td>\n",
       "      <td>01 - janvier</td>\n",
       "      <td>0 - lundi</td>\n",
       "      <td>9.0</td>\n",
       "      <td>75</td>\n",
       "      <td>Plein jour</td>\n",
       "      <td>Normale</td>\n",
       "      <td>normale</td>\n",
       "      <td>M</td>\n",
       "      <td>26-27</td>\n",
       "      <td>0 - Indemne</td>\n",
       "      <td>75005</td>\n",
       "    </tr>\n",
       "    <tr>\n",
       "      <td>223</td>\n",
       "      <td>200500004600</td>\n",
       "      <td>2005-01-03</td>\n",
       "      <td>01 - janvier</td>\n",
       "      <td>0 - lundi</td>\n",
       "      <td>17.0</td>\n",
       "      <td>75</td>\n",
       "      <td>Nuit avec éclairage public allumé</td>\n",
       "      <td>Normale</td>\n",
       "      <td>normale</td>\n",
       "      <td>M</td>\n",
       "      <td>31-32</td>\n",
       "      <td>0 - Indemne</td>\n",
       "      <td>75019</td>\n",
       "    </tr>\n",
       "    <tr>\n",
       "      <td>...</td>\n",
       "      <td>...</td>\n",
       "      <td>...</td>\n",
       "      <td>...</td>\n",
       "      <td>...</td>\n",
       "      <td>...</td>\n",
       "      <td>...</td>\n",
       "      <td>...</td>\n",
       "      <td>...</td>\n",
       "      <td>...</td>\n",
       "      <td>...</td>\n",
       "      <td>...</td>\n",
       "      <td>...</td>\n",
       "      <td>...</td>\n",
       "    </tr>\n",
       "    <tr>\n",
       "      <td>65531</td>\n",
       "      <td>201800050291</td>\n",
       "      <td>2018-07-10</td>\n",
       "      <td>07 - juillet</td>\n",
       "      <td>1 - mardi</td>\n",
       "      <td>9.0</td>\n",
       "      <td>75</td>\n",
       "      <td>Plein jour</td>\n",
       "      <td>Normale</td>\n",
       "      <td>normale</td>\n",
       "      <td>F</td>\n",
       "      <td>58-59</td>\n",
       "      <td>2 - Blessé hospitalisé</td>\n",
       "      <td>75101</td>\n",
       "    </tr>\n",
       "    <tr>\n",
       "      <td>65532</td>\n",
       "      <td>201800050337</td>\n",
       "      <td>2018-11-17</td>\n",
       "      <td>11 - novembre</td>\n",
       "      <td>5 - samedi</td>\n",
       "      <td>12.0</td>\n",
       "      <td>75</td>\n",
       "      <td>Plein jour</td>\n",
       "      <td>Normale</td>\n",
       "      <td>normale</td>\n",
       "      <td>M</td>\n",
       "      <td>59-60</td>\n",
       "      <td>1 - Blessé léger</td>\n",
       "      <td>75101</td>\n",
       "    </tr>\n",
       "    <tr>\n",
       "      <td>65533</td>\n",
       "      <td>201800050355</td>\n",
       "      <td>2018-02-01</td>\n",
       "      <td>02 - février</td>\n",
       "      <td>3 - jeudi</td>\n",
       "      <td>15.0</td>\n",
       "      <td>75</td>\n",
       "      <td>Plein jour</td>\n",
       "      <td>Temps couvert</td>\n",
       "      <td>mouillée</td>\n",
       "      <td>M</td>\n",
       "      <td>31-32</td>\n",
       "      <td>1 - Blessé léger</td>\n",
       "      <td>75102</td>\n",
       "    </tr>\n",
       "    <tr>\n",
       "      <td>65534</td>\n",
       "      <td>201800050359</td>\n",
       "      <td>2018-02-12</td>\n",
       "      <td>02 - février</td>\n",
       "      <td>0 - lundi</td>\n",
       "      <td>9.0</td>\n",
       "      <td>75</td>\n",
       "      <td>Plein jour</td>\n",
       "      <td>Normale</td>\n",
       "      <td>normale</td>\n",
       "      <td>F</td>\n",
       "      <td>29-30</td>\n",
       "      <td>1 - Blessé léger</td>\n",
       "      <td>75101</td>\n",
       "    </tr>\n",
       "    <tr>\n",
       "      <td>65535</td>\n",
       "      <td>201800050370</td>\n",
       "      <td>2018-05-28</td>\n",
       "      <td>05 - mai</td>\n",
       "      <td>0 - lundi</td>\n",
       "      <td>19.0</td>\n",
       "      <td>75</td>\n",
       "      <td>Crépuscule ou aube</td>\n",
       "      <td>Pluie forte</td>\n",
       "      <td>NaN</td>\n",
       "      <td>M</td>\n",
       "      <td>40-41</td>\n",
       "      <td>1 - Blessé léger</td>\n",
       "      <td>75102</td>\n",
       "    </tr>\n",
       "  </tbody>\n",
       "</table>\n",
       "<p>17541 rows × 13 columns</p>\n",
       "</div>"
      ],
      "text/plain": [
       "       identifiant accident        date           mois        jour  heure  \\\n",
       "58             200500001606  2005-01-13   01 - janvier   3 - jeudi   11.0   \n",
       "61             200500001930  2005-01-15   01 - janvier  5 - samedi   15.0   \n",
       "221            200500004591  2005-01-04   01 - janvier   1 - mardi   17.0   \n",
       "222            200500004597  2005-01-03   01 - janvier   0 - lundi    9.0   \n",
       "223            200500004600  2005-01-03   01 - janvier   0 - lundi   17.0   \n",
       "...                     ...         ...            ...         ...    ...   \n",
       "65531          201800050291  2018-07-10   07 - juillet   1 - mardi    9.0   \n",
       "65532          201800050337  2018-11-17  11 - novembre  5 - samedi   12.0   \n",
       "65533          201800050355  2018-02-01   02 - février   3 - jeudi   15.0   \n",
       "65534          201800050359  2018-02-12   02 - février   0 - lundi    9.0   \n",
       "65535          201800050370  2018-05-28       05 - mai   0 - lundi   19.0   \n",
       "\n",
       "      departement                         luminosite conditions atmosperiques  \\\n",
       "58             78                         Plein jour                  Normale   \n",
       "61             95                         Plein jour                  Normale   \n",
       "221            75  Nuit avec éclairage public allumé                  Normale   \n",
       "222            75                         Plein jour                  Normale   \n",
       "223            75  Nuit avec éclairage public allumé                  Normale   \n",
       "...           ...                                ...                      ...   \n",
       "65531          75                         Plein jour                  Normale   \n",
       "65532          75                         Plein jour                  Normale   \n",
       "65533          75                         Plein jour            Temps couvert   \n",
       "65534          75                         Plein jour                  Normale   \n",
       "65535          75                 Crépuscule ou aube              Pluie forte   \n",
       "\n",
       "      etat surface sexe    age        gravite accident commune  \n",
       "58         normale    M  61-62  2 - Blessé hospitalisé   78230  \n",
       "61         normale    M  58-59             0 - Indemne   95042  \n",
       "221        normale    M  36-37        1 - Blessé léger   75001  \n",
       "222        normale    M  26-27             0 - Indemne   75005  \n",
       "223        normale    M  31-32             0 - Indemne   75019  \n",
       "...            ...  ...    ...                     ...     ...  \n",
       "65531      normale    F  58-59  2 - Blessé hospitalisé   75101  \n",
       "65532      normale    M  59-60        1 - Blessé léger   75101  \n",
       "65533     mouillée    M  31-32        1 - Blessé léger   75102  \n",
       "65534      normale    F  29-30        1 - Blessé léger   75101  \n",
       "65535          NaN    M  40-41        1 - Blessé léger   75102  \n",
       "\n",
       "[17541 rows x 13 columns]"
      ]
     },
     "execution_count": 13,
     "metadata": {},
     "output_type": "execute_result"
    }
   ],
   "source": [
    "accident_velo_idf_meteo = accident_velo_idf[['identifiant accident','date','mois', 'jour', 'heure', 'departement','luminosite', 'conditions atmosperiques', 'etat surface', 'sexe', 'age', 'gravite accident', 'commune', ]]\n",
    "accident_velo_idf_meteo"
   ]
  },
  {
   "cell_type": "code",
   "execution_count": 14,
   "metadata": {},
   "outputs": [
    {
     "name": "stderr",
     "output_type": "stream",
     "text": [
      "C:\\Users\\Vinciane\\Anaconda3\\lib\\site-packages\\ipykernel_launcher.py:4: SettingWithCopyWarning: \n",
      "A value is trying to be set on a copy of a slice from a DataFrame.\n",
      "Try using .loc[row_indexer,col_indexer] = value instead\n",
      "\n",
      "See the caveats in the documentation: http://pandas.pydata.org/pandas-docs/stable/user_guide/indexing.html#returning-a-view-versus-a-copy\n",
      "  after removing the cwd from sys.path.\n",
      "C:\\Users\\Vinciane\\Anaconda3\\lib\\site-packages\\ipykernel_launcher.py:8: SettingWithCopyWarning: \n",
      "A value is trying to be set on a copy of a slice from a DataFrame.\n",
      "Try using .loc[row_indexer,col_indexer] = value instead\n",
      "\n",
      "See the caveats in the documentation: http://pandas.pydata.org/pandas-docs/stable/user_guide/indexing.html#returning-a-view-versus-a-copy\n",
      "  \n"
     ]
    }
   ],
   "source": [
    "accident_velo_idf_meteo['conditions atmosperiques'] = accident_velo_idf_meteo['conditions atmosperiques'].apply(\n",
    "    lambda x: \"Normale\" if x == 'Normale' or x =='Temps éblouissant' or x== 'Autre' else x).apply(\n",
    "    lambda x: \"Couvert\" if x == 'Brouillard - fumée' or x =='Temps couvert' else x).apply (\n",
    "    lambda x: \"Précipitations\" if x == 'Pluie forte' or x == 'Pluie légère' or x =='Neige - grêle' or x =='Vent fort - tempête' else x)\n",
    "\n",
    "accident_velo_idf_meteo['luminosite'] = accident_velo_idf_meteo['luminosite'].apply(\n",
    "    lambda x: \"Jour\" if x == 'Plein jour' else x).apply(\n",
    "    lambda x: \"Nuit\" if x == \"Crépuscule ou aube\" or x == 'Nuit avec éclairage public allumé' or x=='Nuit avec éclairage public non allumé' or x=='Nuit sans éclairage public' else x)"
   ]
  },
  {
   "cell_type": "code",
   "execution_count": 15,
   "metadata": {},
   "outputs": [
    {
     "name": "stderr",
     "output_type": "stream",
     "text": [
      "C:\\Users\\Vinciane\\Anaconda3\\lib\\site-packages\\ipykernel_launcher.py:1: FutureWarning: `item` has been deprecated and will be removed in a future version\n",
      "  \"\"\"Entry point for launching an IPython kernel.\n",
      "C:\\Users\\Vinciane\\Anaconda3\\lib\\site-packages\\ipykernel_launcher.py:3: FutureWarning: `item` has been deprecated and will be removed in a future version\n",
      "  This is separate from the ipykernel package so we can avoid doing imports until\n",
      "C:\\Users\\Vinciane\\Anaconda3\\lib\\site-packages\\ipykernel_launcher.py:5: FutureWarning: `item` has been deprecated and will be removed in a future version\n",
      "  \"\"\"\n"
     ]
    },
    {
     "name": "stdout",
     "output_type": "stream",
     "text": [
      "Quel chanceux, il n'y a ni pluie ni verglas pour votre trajet à vélo.\n",
      "Pourtant, il faut quand même faire attention, car de nombreux accidents ont lieu dans des conditions atmosphériques normales.\n"
     ]
    },
    {
     "data": {
      "image/png": "[encoded data removed]",
      "text/plain": [
       "<Figure size 420.25x360 with 1 Axes>"
      ]
     },
     "metadata": {
      "needs_background": "light"
     },
     "output_type": "display_data"
    }
   ],
   "source": [
    "if meteo_idf_temps_reel['precipitations mm/h'].item()> 2.000 and (meteo_idf_temps_reel['2_metre_temperature'].item() > -1 or meteo_idf_temps_reel['2_metre_temperature'].item()) < 1:\n",
    "    print(\"Attention il pleut et il y a peut-être du verglas sur la chaussée.\")\n",
    "elif meteo_idf_temps_reel['precipitations mm/h'].item() > 2.000 and (meteo_idf_temps_reel['2_metre_temperature'].item() < -1 or meteo_idf_temps_reel['2_metre_temperature'].item()) > 1:\n",
    "    print(\"Attention il pleut, mais normalement, il n'y a pas de verglas sur la chaussée.\")\n",
    "elif meteo_idf_temps_reel['precipitations mm/h'].item() < 2.00 and (meteo_idf_temps_reel['2_metre_temperature'].item() > -1 or meteo_idf_temps_reel['2_metre_temperature'].item()) < 1:\n",
    "    print(\"Il ne pleut pas, mais attention, il peut y avoir du verglas sur votre trajet.\")\n",
    "else:\n",
    "    print(\"Quel chanceux, il n'y a ni pluie ni verglas pour votre trajet à vélo.\")\n",
    "    print(\"Pourtant, il faut quand même faire attention, car de nombreux accidents ont lieu dans des conditions atmosphériques normales.\")\n",
    "    category_order = ['Normale', 'Couvert', 'Précipitations']\n",
    "\n",
    "    g = sns.catplot(x='conditions atmosperiques',\n",
    "            hue = 'luminosite', palette=\"YlOrBr\", \n",
    "            data=accident_velo_idf_meteo, kind='count', order=category_order);\n",
    "\n",
    "    plt.title('Répartition des accidents en fonction de la météo')\n",
    "    g._legend.set_title('Luminosité')\n",
    "\n",
    "    plt.show()"
   ]
  }
 ],
 "metadata": {
  "kernelspec": {
   "display_name": "Python 3",
   "language": "python",
   "name": "python3"
  },
  "language_info": {
   "codemirror_mode": {
    "name": "ipython",
    "version": 3
   },
   "file_extension": ".py",
   "mimetype": "text/x-python",
   "name": "python",
   "nbconvert_exporter": "python",
   "pygments_lexer": "ipython3",
   "version": "3.7.4"
  }
 },
 "nbformat": 4,
 "nbformat_minor": 2
}
