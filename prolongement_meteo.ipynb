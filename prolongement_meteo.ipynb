{
 "cells": [
  {
   "cell_type": "markdown",
   "metadata": {},
   "source": [
    "# Afficher l'heure et la météo au moment de la requête du cycliste"
   ]
  },
  {
   "cell_type": "code",
   "execution_count": 2,
   "metadata": {},
   "outputs": [],
   "source": [
    "import geopandas as gpd\n",
    "import pandas as pd\n",
    "import numpy as np\n",
    "import seaborn as sns\n",
    "import matplotlib.pyplot as plt\n"
   ]
  },
  {
   "cell_type": "markdown",
   "metadata": {},
   "source": [
    "### L'heure et la date en temps réel"
   ]
  },
  {
   "cell_type": "code",
   "execution_count": 3,
   "metadata": {},
   "outputs": [
    {
     "name": "stdout",
     "output_type": "stream",
     "text": [
      "Aujourd'hui nous sommes le 14-12-2020\n"
     ]
    }
   ],
   "source": [
    "##L'heure et la date de la requête : \n",
    "import time\n",
    "import datetime\n",
    "#On regarde l'heure et la date de la requête\n",
    "time.strftime('%Y-%m-%d %H:%M:%S', time.localtime()) #Date et heure en entier\n",
    "Date = time.strftime('%Y-%m-%d', time.localtime())\n",
    "Date_Eur = time.strftime('%d-%m-%Y', time.localtime())\n",
    "Time = time.strftime('%H:%M', time.localtime()) #Heure uniquement\n",
    "DateTime = time.strftime('%Y-%m-%dT%H:%M:%S', time.localtime()) \n",
    "# Pour faciliter ici, je n'ai pas arrondi les minutes, mais rogné\n",
    "print(\"Aujourd'hui nous sommes le\", Date_Eur)"
   ]
  },
  {
   "cell_type": "markdown",
   "metadata": {},
   "source": [
    "### Les heures de lever et de coucher du soleil : \n",
    "\n",
    "\n",
    "Difficulté pour trouver une base de donnée propre : seulement à télécharger par année\n",
    "On prend la base de donnée sur le site : http://ptaff.ca/, et je l'ai mise sur Github"
   ]
  },
  {
   "cell_type": "code",
   "execution_count": 4,
   "metadata": {},
   "outputs": [
    {
     "data": {
      "text/html": [
       "<div>\n",
       "<style scoped>\n",
       "    .dataframe tbody tr th:only-of-type {\n",
       "        vertical-align: middle;\n",
       "    }\n",
       "\n",
       "    .dataframe tbody tr th {\n",
       "        vertical-align: top;\n",
       "    }\n",
       "\n",
       "    .dataframe thead th {\n",
       "        text-align: right;\n",
       "    }\n",
       "</style>\n",
       "<table border=\"1\" class=\"dataframe\">\n",
       "  <thead>\n",
       "    <tr style=\"text-align: right;\">\n",
       "      <th></th>\n",
       "      <th>Date</th>\n",
       "      <th>Lever_du_soleil</th>\n",
       "      <th>Coucher_du_soleil</th>\n",
       "      <th>Durée_du_jour</th>\n",
       "    </tr>\n",
       "  </thead>\n",
       "  <tbody>\n",
       "    <tr>\n",
       "      <td>348</td>\n",
       "      <td>2020-12-14</td>\n",
       "      <td>08:37</td>\n",
       "      <td>16:54</td>\n",
       "      <td>08:17</td>\n",
       "    </tr>\n",
       "  </tbody>\n",
       "</table>\n",
       "</div>"
      ],
      "text/plain": [
       "           Date Lever_du_soleil Coucher_du_soleil Durée_du_jour\n",
       "348  2020-12-14           08:37             16:54         08:17"
      ]
     },
     "execution_count": 4,
     "metadata": {},
     "output_type": "execute_result"
    }
   ],
   "source": [
    "heures_soleil = pd.read_csv('https://raw.githubusercontent.com/ImaneFa/Projet_Python/main/lever_coucher_soleil.csv',  sep = ',')\n",
    "heures_soleil.loc[heures_soleil['Date'] == Date] "
   ]
  },
  {
   "cell_type": "code",
   "execution_count": 5,
   "metadata": {},
   "outputs": [
    {
     "name": "stdout",
     "output_type": "stream",
     "text": [
      "Il est 21:22 attention, vous roulez de nuit.\n"
     ]
    }
   ],
   "source": [
    "heures_soleil.loc[heures_soleil['Date'] == Date]\n",
    "if  Time >=heures_soleil.loc[heures_soleil['Date'] == Date]['Lever_du_soleil'].any() and Time <=heures_soleil.loc[heures_soleil['Date'] == Date]['Coucher_du_soleil'].any():\n",
    "    print('Il est', Time,', vous roulez de jour.')\n",
    "else: \n",
    "    print('Il est', Time,'attention, vous roulez de nuit.')"
   ]
  },
  {
   "cell_type": "markdown",
   "metadata": {},
   "source": [
    "### La météo en temps réel\n",
    "\n",
    "Sur le site : https://www.data.gouv.fr/fr/datasets/prevision-meteo-ile-de-france-arome/#_ on prélève la seule base de donnée gratuite d'internet avec les prévisions pour les 36h après sa mise à jour\n"
   ]
  },
  {
   "cell_type": "code",
   "execution_count": 6,
   "metadata": {},
   "outputs": [],
   "source": [
    "meteo_gpd = 'https://www.data.gouv.fr/fr/datasets/r/8e834f69-0b43-439a-87bd-87ca80c84cd7'\n",
    "meteo_idf = gpd.read_file(meteo_gpd)"
   ]
  },
  {
   "cell_type": "code",
   "execution_count": 7,
   "metadata": {},
   "outputs": [],
   "source": [
    "meteo_idf = meteo_idf[['timestamp', 'forecast', '2_metre_temperature', 'total_water_precipitation',  'geometry']]\n",
    "meteo_idf = meteo_idf.sort_values('forecast')"
   ]
  },
  {
   "cell_type": "markdown",
   "metadata": {},
   "source": [
    "D'après la documentation, \n",
    "\n",
    "- La colonne _\"total_water_precipitation\"_ correspond au cumul (depuis le début de la simulation) de la somme des flux au sol des précipitations liquides et solides (eau, neige, grêlons) en kg/m²\n",
    "- La colonne _\"2_metre_temperature\"_ correspond à la température diagnostiquée à 2m de hauteur au dessus du relief"
   ]
  },
  {
   "cell_type": "code",
   "execution_count": 8,
   "metadata": {
    "scrolled": true
   },
   "outputs": [],
   "source": [
    "#Différence en minutes entre la prévision et l'heure prévue\n",
    "meteo_idf[\"duration\"] = pd.to_datetime(meteo_idf[\"forecast\"]) - pd.to_datetime(meteo_idf[\"timestamp\"])\n",
    "meteo_idf[\"duration\"] = meteo_idf[\"duration\"].astype(\"timedelta64[m]\") \n",
    "#On ne conserve que les prévisions pour le centre de Paris en les supposant signifiantes pour toute l'Ile-de-France\n",
    "meteo_idf = meteo_idf.cx[2.35,48.85] "
   ]
  },
  {
   "cell_type": "code",
   "execution_count": 9,
   "metadata": {},
   "outputs": [],
   "source": [
    "meteo_idf = meteo_idf.reset_index()"
   ]
  },
  {
   "cell_type": "code",
   "execution_count": 10,
   "metadata": {},
   "outputs": [],
   "source": [
    "for i in range(1,len(meteo_idf)):\n",
    "    meteo_idf.loc[i, 'diff_precipitation'] = meteo_idf.loc[i,'total_water_precipitation']-meteo_idf.loc[i-1,'total_water_precipitation']\n",
    "\n",
    "#Parfois des erreurs dans la conception des données, lorsque \"duree\" est négative (impossible car signifierait que la somme des précipitations diminue dans le temps)\n",
    "#Pour négliger ces erreurs, on remplace les valeurs négatives par 0\n",
    "meteo_idf.loc[(meteo_idf[\"diff_precipitation\"]<0), \"diff_precipitation\"] = 0"
   ]
  },
  {
   "cell_type": "code",
   "execution_count": 11,
   "metadata": {},
   "outputs": [],
   "source": [
    "#On trouve la durée de l'intervalle entre deux estimations\n",
    "for i in range(1,len(meteo_idf)):\n",
    "    meteo_idf.loc[i, 'duree_intervalle'] = meteo_idf.loc[i,'duration']-meteo_idf.loc[i-1,'duration']"
   ]
  },
  {
   "cell_type": "markdown",
   "metadata": {},
   "source": [
    "Conversion des données de précipitations en kg/m² en données mesurées en mm/h :\n",
    "On a 1L/m² =1mm, et 1kg d'eau = 1L d'eau, d'où : \n",
    "- précipitation en 1h = (précipitations pendant l'intervalle)/(duree intervalle)*60 \n",
    "\n",
    "La manière de mesurer les précipitations la plus répandue est la pluviométrie, qui correspond à la hauteur d'eau recueillie sur une surface plane (exprimée en mm). \n",
    "On sépare l'intensité de la pluie : \n",
    "- pluie très faible et négligeable  (de 0 à 2 mm/h)\n",
    "- modérée et forte (plus 2 mm/h)"
   ]
  },
  {
   "cell_type": "code",
   "execution_count": 12,
   "metadata": {},
   "outputs": [],
   "source": [
    "meteo_idf[\"precipitations mm/h\"] = ((meteo_idf[\"diff_precipitation\"])/(meteo_idf[\"duree_intervalle\"]))*60\n",
    "meteo_idf = meteo_idf[['forecast', '2_metre_temperature','precipitations mm/h']]"
   ]
  },
  {
   "cell_type": "code",
   "execution_count": 13,
   "metadata": {},
   "outputs": [
    {
     "data": {
      "text/html": [
       "<div>\n",
       "<style scoped>\n",
       "    .dataframe tbody tr th:only-of-type {\n",
       "        vertical-align: middle;\n",
       "    }\n",
       "\n",
       "    .dataframe tbody tr th {\n",
       "        vertical-align: top;\n",
       "    }\n",
       "\n",
       "    .dataframe thead th {\n",
       "        text-align: right;\n",
       "    }\n",
       "</style>\n",
       "<table border=\"1\" class=\"dataframe\">\n",
       "  <thead>\n",
       "    <tr style=\"text-align: right;\">\n",
       "      <th></th>\n",
       "      <th>forecast</th>\n",
       "      <th>2_metre_temperature</th>\n",
       "      <th>precipitations mm/h</th>\n",
       "    </tr>\n",
       "  </thead>\n",
       "  <tbody>\n",
       "    <tr>\n",
       "      <td>8</td>\n",
       "      <td>2020-12-14T21:00:00</td>\n",
       "      <td>11.663721</td>\n",
       "      <td>0.0</td>\n",
       "    </tr>\n",
       "  </tbody>\n",
       "</table>\n",
       "</div>"
      ],
      "text/plain": [
       "              forecast  2_metre_temperature  precipitations mm/h\n",
       "8  2020-12-14T21:00:00            11.663721                  0.0"
      ]
     },
     "execution_count": 13,
     "metadata": {},
     "output_type": "execute_result"
    }
   ],
   "source": [
    "meteo_idf_temps_reel = meteo_idf.loc[meteo_idf['forecast'] <= DateTime][['forecast', '2_metre_temperature', 'precipitations mm/h' ]].sort_values('forecast').tail(1)\n",
    "# On fait en rognant l'heure et non en approximant => voir si améliorable ou pas\n",
    "meteo_idf_temps_reel"
   ]
  },
  {
   "cell_type": "markdown",
   "metadata": {},
   "source": [
    "On compare la météo actuelle par rapport aux accidents enregistrés"
   ]
  },
  {
   "cell_type": "code",
   "execution_count": 14,
   "metadata": {},
   "outputs": [],
   "source": [
    "accident_velo = pd.read_csv('https://www.data.gouv.fr/fr/datasets/r/3d5f2317-5afd-4a9f-a9c5-bd4fe0113f39', dtype='unicode')"
   ]
  },
  {
   "cell_type": "code",
   "execution_count": 15,
   "metadata": {},
   "outputs": [],
   "source": [
    "accident_velo_idf = accident_velo[accident_velo['departement'].isin(['75','77','78','91','92','93','94','95'])]"
   ]
  },
  {
   "cell_type": "code",
   "execution_count": 16,
   "metadata": {
    "scrolled": false
   },
   "outputs": [
    {
     "data": {
      "text/html": [
       "<div>\n",
       "<style scoped>\n",
       "    .dataframe tbody tr th:only-of-type {\n",
       "        vertical-align: middle;\n",
       "    }\n",
       "\n",
       "    .dataframe tbody tr th {\n",
       "        vertical-align: top;\n",
       "    }\n",
       "\n",
       "    .dataframe thead th {\n",
       "        text-align: right;\n",
       "    }\n",
       "</style>\n",
       "<table border=\"1\" class=\"dataframe\">\n",
       "  <thead>\n",
       "    <tr style=\"text-align: right;\">\n",
       "      <th></th>\n",
       "      <th>identifiant accident</th>\n",
       "      <th>date</th>\n",
       "      <th>mois</th>\n",
       "      <th>jour</th>\n",
       "      <th>heure</th>\n",
       "      <th>departement</th>\n",
       "      <th>luminosite</th>\n",
       "      <th>conditions atmosperiques</th>\n",
       "      <th>etat surface</th>\n",
       "      <th>sexe</th>\n",
       "      <th>age</th>\n",
       "      <th>gravite accident</th>\n",
       "      <th>commune</th>\n",
       "    </tr>\n",
       "  </thead>\n",
       "  <tbody>\n",
       "    <tr>\n",
       "      <td>58</td>\n",
       "      <td>200500001606</td>\n",
       "      <td>2005-01-13</td>\n",
       "      <td>01 - janvier</td>\n",
       "      <td>3 - jeudi</td>\n",
       "      <td>11</td>\n",
       "      <td>78</td>\n",
       "      <td>Plein jour</td>\n",
       "      <td>Normale</td>\n",
       "      <td>normale</td>\n",
       "      <td>M</td>\n",
       "      <td>61-62</td>\n",
       "      <td>2 - Blessé hospitalisé</td>\n",
       "      <td>78230</td>\n",
       "    </tr>\n",
       "    <tr>\n",
       "      <td>61</td>\n",
       "      <td>200500001930</td>\n",
       "      <td>2005-01-15</td>\n",
       "      <td>01 - janvier</td>\n",
       "      <td>5 - samedi</td>\n",
       "      <td>15</td>\n",
       "      <td>95</td>\n",
       "      <td>Plein jour</td>\n",
       "      <td>Normale</td>\n",
       "      <td>normale</td>\n",
       "      <td>M</td>\n",
       "      <td>58-59</td>\n",
       "      <td>0 - Indemne</td>\n",
       "      <td>95042</td>\n",
       "    </tr>\n",
       "    <tr>\n",
       "      <td>221</td>\n",
       "      <td>200500004591</td>\n",
       "      <td>2005-01-04</td>\n",
       "      <td>01 - janvier</td>\n",
       "      <td>1 - mardi</td>\n",
       "      <td>17</td>\n",
       "      <td>75</td>\n",
       "      <td>Nuit avec éclairage public allumé</td>\n",
       "      <td>Normale</td>\n",
       "      <td>normale</td>\n",
       "      <td>M</td>\n",
       "      <td>36-37</td>\n",
       "      <td>1 - Blessé léger</td>\n",
       "      <td>75001</td>\n",
       "    </tr>\n",
       "    <tr>\n",
       "      <td>222</td>\n",
       "      <td>200500004597</td>\n",
       "      <td>2005-01-03</td>\n",
       "      <td>01 - janvier</td>\n",
       "      <td>0 - lundi</td>\n",
       "      <td>9</td>\n",
       "      <td>75</td>\n",
       "      <td>Plein jour</td>\n",
       "      <td>Normale</td>\n",
       "      <td>normale</td>\n",
       "      <td>M</td>\n",
       "      <td>26-27</td>\n",
       "      <td>0 - Indemne</td>\n",
       "      <td>75005</td>\n",
       "    </tr>\n",
       "    <tr>\n",
       "      <td>223</td>\n",
       "      <td>200500004600</td>\n",
       "      <td>2005-01-03</td>\n",
       "      <td>01 - janvier</td>\n",
       "      <td>0 - lundi</td>\n",
       "      <td>17</td>\n",
       "      <td>75</td>\n",
       "      <td>Nuit avec éclairage public allumé</td>\n",
       "      <td>Normale</td>\n",
       "      <td>normale</td>\n",
       "      <td>M</td>\n",
       "      <td>31-32</td>\n",
       "      <td>0 - Indemne</td>\n",
       "      <td>75019</td>\n",
       "    </tr>\n",
       "    <tr>\n",
       "      <td>...</td>\n",
       "      <td>...</td>\n",
       "      <td>...</td>\n",
       "      <td>...</td>\n",
       "      <td>...</td>\n",
       "      <td>...</td>\n",
       "      <td>...</td>\n",
       "      <td>...</td>\n",
       "      <td>...</td>\n",
       "      <td>...</td>\n",
       "      <td>...</td>\n",
       "      <td>...</td>\n",
       "      <td>...</td>\n",
       "      <td>...</td>\n",
       "    </tr>\n",
       "    <tr>\n",
       "      <td>65884</td>\n",
       "      <td>201800055024</td>\n",
       "      <td>2018-05-28</td>\n",
       "      <td>05 - mai</td>\n",
       "      <td>0 - lundi</td>\n",
       "      <td>11</td>\n",
       "      <td>75</td>\n",
       "      <td>Plein jour</td>\n",
       "      <td>Normale</td>\n",
       "      <td>normale</td>\n",
       "      <td>M</td>\n",
       "      <td>44-45</td>\n",
       "      <td>2 - Blessé hospitalisé</td>\n",
       "      <td>75112</td>\n",
       "    </tr>\n",
       "    <tr>\n",
       "      <td>65885</td>\n",
       "      <td>201800055030</td>\n",
       "      <td>2018-06-03</td>\n",
       "      <td>06 - juin</td>\n",
       "      <td>6 - dimanche</td>\n",
       "      <td>2</td>\n",
       "      <td>75</td>\n",
       "      <td>Nuit avec éclairage public allumé</td>\n",
       "      <td>Normale</td>\n",
       "      <td>normale</td>\n",
       "      <td>M</td>\n",
       "      <td>38-39</td>\n",
       "      <td>2 - Blessé hospitalisé</td>\n",
       "      <td>75113</td>\n",
       "    </tr>\n",
       "    <tr>\n",
       "      <td>65886</td>\n",
       "      <td>201800055039</td>\n",
       "      <td>2018-06-13</td>\n",
       "      <td>06 - juin</td>\n",
       "      <td>2 - mercredi</td>\n",
       "      <td>7</td>\n",
       "      <td>75</td>\n",
       "      <td>Plein jour</td>\n",
       "      <td>Normale</td>\n",
       "      <td>NaN</td>\n",
       "      <td>F</td>\n",
       "      <td>40-41</td>\n",
       "      <td>2 - Blessé hospitalisé</td>\n",
       "      <td>75112</td>\n",
       "    </tr>\n",
       "    <tr>\n",
       "      <td>65887</td>\n",
       "      <td>201800055045</td>\n",
       "      <td>2018-06-19</td>\n",
       "      <td>06 - juin</td>\n",
       "      <td>1 - mardi</td>\n",
       "      <td>17</td>\n",
       "      <td>75</td>\n",
       "      <td>Plein jour</td>\n",
       "      <td>Normale</td>\n",
       "      <td>normale</td>\n",
       "      <td>M</td>\n",
       "      <td>68-69</td>\n",
       "      <td>2 - Blessé hospitalisé</td>\n",
       "      <td>75116</td>\n",
       "    </tr>\n",
       "    <tr>\n",
       "      <td>65888</td>\n",
       "      <td>201800055047</td>\n",
       "      <td>2018-06-21</td>\n",
       "      <td>06 - juin</td>\n",
       "      <td>3 - jeudi</td>\n",
       "      <td>17</td>\n",
       "      <td>75</td>\n",
       "      <td>Plein jour</td>\n",
       "      <td>Normale</td>\n",
       "      <td>normale</td>\n",
       "      <td>F</td>\n",
       "      <td>51-52</td>\n",
       "      <td>2 - Blessé hospitalisé</td>\n",
       "      <td>75107</td>\n",
       "    </tr>\n",
       "  </tbody>\n",
       "</table>\n",
       "<p>17894 rows × 13 columns</p>\n",
       "</div>"
      ],
      "text/plain": [
       "      identifiant accident        date          mois          jour heure  \\\n",
       "58            200500001606  2005-01-13  01 - janvier     3 - jeudi    11   \n",
       "61            200500001930  2005-01-15  01 - janvier    5 - samedi    15   \n",
       "221           200500004591  2005-01-04  01 - janvier     1 - mardi    17   \n",
       "222           200500004597  2005-01-03  01 - janvier     0 - lundi     9   \n",
       "223           200500004600  2005-01-03  01 - janvier     0 - lundi    17   \n",
       "...                    ...         ...           ...           ...   ...   \n",
       "65884         201800055024  2018-05-28      05 - mai     0 - lundi    11   \n",
       "65885         201800055030  2018-06-03     06 - juin  6 - dimanche     2   \n",
       "65886         201800055039  2018-06-13     06 - juin  2 - mercredi     7   \n",
       "65887         201800055045  2018-06-19     06 - juin     1 - mardi    17   \n",
       "65888         201800055047  2018-06-21     06 - juin     3 - jeudi    17   \n",
       "\n",
       "      departement                         luminosite conditions atmosperiques  \\\n",
       "58             78                         Plein jour                  Normale   \n",
       "61             95                         Plein jour                  Normale   \n",
       "221            75  Nuit avec éclairage public allumé                  Normale   \n",
       "222            75                         Plein jour                  Normale   \n",
       "223            75  Nuit avec éclairage public allumé                  Normale   \n",
       "...           ...                                ...                      ...   \n",
       "65884          75                         Plein jour                  Normale   \n",
       "65885          75  Nuit avec éclairage public allumé                  Normale   \n",
       "65886          75                         Plein jour                  Normale   \n",
       "65887          75                         Plein jour                  Normale   \n",
       "65888          75                         Plein jour                  Normale   \n",
       "\n",
       "      etat surface sexe    age        gravite accident commune  \n",
       "58         normale    M  61-62  2 - Blessé hospitalisé   78230  \n",
       "61         normale    M  58-59             0 - Indemne   95042  \n",
       "221        normale    M  36-37        1 - Blessé léger   75001  \n",
       "222        normale    M  26-27             0 - Indemne   75005  \n",
       "223        normale    M  31-32             0 - Indemne   75019  \n",
       "...            ...  ...    ...                     ...     ...  \n",
       "65884      normale    M  44-45  2 - Blessé hospitalisé   75112  \n",
       "65885      normale    M  38-39  2 - Blessé hospitalisé   75113  \n",
       "65886          NaN    F  40-41  2 - Blessé hospitalisé   75112  \n",
       "65887      normale    M  68-69  2 - Blessé hospitalisé   75116  \n",
       "65888      normale    F  51-52  2 - Blessé hospitalisé   75107  \n",
       "\n",
       "[17894 rows x 13 columns]"
      ]
     },
     "execution_count": 16,
     "metadata": {},
     "output_type": "execute_result"
    }
   ],
   "source": [
    "#On conserve toutes les données d'Ile-de-France, avec et sans coordonnées répertoriées\n",
    "accident_velo_idf_meteo = accident_velo_idf[['identifiant accident','date','mois', 'jour', 'heure', 'departement','luminosite', 'conditions atmosperiques', 'etat surface', 'sexe', 'age', 'gravite accident', 'commune', ]]\n",
    "accident_velo_idf_meteo"
   ]
  },
  {
   "cell_type": "code",
   "execution_count": 17,
   "metadata": {},
   "outputs": [],
   "source": [
    "#On ignore le message d'avertissement de la future cellule, pour plus de propreté dans le notebook final,\n",
    "#même si on prend en compte le conseil\n",
    "import warnings\n",
    "from pandas.core.common import SettingWithCopyWarning\n",
    "warnings.simplefilter(action=\"ignore\", category=SettingWithCopyWarning)"
   ]
  },
  {
   "cell_type": "code",
   "execution_count": 18,
   "metadata": {},
   "outputs": [],
   "source": [
    "accident_velo_idf_meteo['conditions atmosperiques'] = accident_velo_idf_meteo['conditions atmosperiques'].apply(\n",
    "    lambda x: \"Normale\" if x == 'Normale' or x =='Temps éblouissant' or x== 'Autre' else x).apply(\n",
    "    lambda x: \"Couvert\" if x == 'Brouillard - fumée' or x =='Temps couvert' else x).apply (\n",
    "    lambda x: \"Précipitations\" if x == 'Pluie forte' or x == 'Pluie légère' or x =='Neige - grêle' or x =='Vent fort - tempête' else x)\n",
    "\n",
    "accident_velo_idf_meteo['luminosite'] = accident_velo_idf_meteo['luminosite'].apply(\n",
    "    lambda x: \"Jour\" if x == 'Plein jour' else x).apply(\n",
    "    lambda x: \"Nuit\" if x == \"Crépuscule ou aube\" or x == 'Nuit avec éclairage public allumé' or x=='Nuit avec éclairage public non allumé' or x=='Nuit sans éclairage public' else x)"
   ]
  },
  {
   "cell_type": "code",
   "execution_count": 19,
   "metadata": {},
   "outputs": [],
   "source": [
    "#On anticipe le message d'avertissement de la cellule future lié à .item()\n",
    "import warnings\n",
    "warnings.simplefilter(action='ignore', category=FutureWarning)"
   ]
  },
  {
   "cell_type": "code",
   "execution_count": 20,
   "metadata": {},
   "outputs": [
    {
     "name": "stdout",
     "output_type": "stream",
     "text": [
      "Quel chanceux, il n'y a ni pluie ni verglas pour votre trajet à vélo et la température est de 11.7 degrès.\n",
      "Pourtant, il faut quand même faire attention, car de nombreux accidents ont lieu dans des conditions atmosphériques normales.\n",
      "Pour vous en convaincre, regardez ce graphique présentant le nombre d'accidents imliquant des cyclistes ayant eu lieu entre 2005 et 2018 en Ile-de-France.\n"
     ]
    },
    {
     "data": {
      "image/png": "[encoded data removed]",
      "text/plain": [
       "<Figure size 420.25x360 with 1 Axes>"
      ]
     },
     "metadata": {
      "needs_background": "light"
     },
     "output_type": "display_data"
    }
   ],
   "source": [
    "#On affiche à l'utilisateur la météo qu'il fait, tout en faisant un peu de prévention, car il faut toujours être vigolant\n",
    "\n",
    "if meteo_idf_temps_reel['precipitations mm/h'].item()> 2.000 and (meteo_idf_temps_reel['2_metre_temperature'].item() > -1 or meteo_idf_temps_reel['2_metre_temperature'].item()) < 1:\n",
    "    print(\"Attention il pleut et il y a peut-être du verglas sur la chaussée car la température est de\", round(meteo_idf_temps_reel['2_metre_temperature'].item(),1),\"degrès.\" )\n",
    "\n",
    "elif meteo_idf_temps_reel['precipitations mm/h'].item() > 2.000 and (meteo_idf_temps_reel['2_metre_temperature'].item() < -1 or meteo_idf_temps_reel['2_metre_temperature'].item()) > 1:\n",
    "    print(\"Attention il pleut, mais normalement, il n'y a pas de verglas sur la chaussée. La témpérature est de \", round(meteo_idf_temps_reel['2_metre_temperature'].item(),1),\"degrès.\" )\n",
    "\n",
    "elif meteo_idf_temps_reel['precipitations mm/h'].item() < 2.00 and (meteo_idf_temps_reel['2_metre_temperature'].item() > -1 or meteo_idf_temps_reel['2_metre_temperature'].item()) < 1:\n",
    "    print(\"Il ne pleut pas, mais attention, il peut y avoir du verglas sur votre trajet.\")\n",
    "\n",
    "else:\n",
    "    print(\"Quel chanceux, il n'y a ni pluie ni verglas pour votre trajet à vélo et la température est de\",round(meteo_idf_temps_reel['2_metre_temperature'].item(),1),\"degrès.\")\n",
    "    print(\"Pourtant, il faut quand même faire attention, car de nombreux accidents ont lieu dans des conditions atmosphériques normales.\\nPour vous en convaincre, regardez ce graphique présentant le nombre d'accidents impliquant des cyclistes ayant eu lieu entre 2005 et 2018 en Ile-de-France.\")\n",
    "    category_order = ['Normale', 'Couvert', 'Précipitations']\n",
    "\n",
    "    #On fait un graphique représentant le nombre d'accident en fonction des conditions atmosphériques\n",
    "    g = sns.catplot(x='conditions atmosperiques',\n",
    "            hue = 'luminosite', palette=\"YlOrBr\", \n",
    "            data=accident_velo_idf_meteo, kind='count', order=category_order);\n",
    "\n",
    "    plt.title('Répartition des accidents impliquant des cyclistes en fonction de la météo')\n",
    "    g._legend.set_title('Luminosité')\n",
    "\n",
    "    plt.show()"
   ]
  }
 ],
 "metadata": {
  "kernelspec": {
   "display_name": "Python 3",
   "language": "python",
   "name": "python3"
  },
  "language_info": {
   "codemirror_mode": {
    "name": "ipython",
    "version": 3
   },
   "file_extension": ".py",
   "mimetype": "text/x-python",
   "name": "python",
   "nbconvert_exporter": "python",
   "pygments_lexer": "ipython3",
   "version": "3.7.4"
  }
 },
 "nbformat": 4,
 "nbformat_minor": 2
}
